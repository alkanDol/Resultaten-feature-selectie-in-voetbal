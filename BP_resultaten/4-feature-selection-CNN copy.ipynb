{
 "cells": [
  {
   "cell_type": "markdown",
   "metadata": {},
   "source": [
    "## Import"
   ]
  },
  {
   "cell_type": "code",
   "execution_count": 1,
   "metadata": {},
   "outputs": [],
   "source": [
    "import pandas as pd\n",
    "import numpy as np\n",
    "import itertools\n",
    "import matplotlib.pyplot as plt"
   ]
  },
  {
   "cell_type": "code",
   "execution_count": 2,
   "metadata": {},
   "outputs": [],
   "source": [
    "%reload_ext autoreload\n",
    "%autoreload 2\n",
    "from soccer_xg.api import DataApi\n",
    "import soccer_xg.xg as xg\n",
    "from soccer_xg.utils import sample_temporal"
   ]
  },
  {
   "cell_type": "markdown",
   "metadata": {},
   "source": [
    "## Config"
   ]
  },
  {
   "cell_type": "code",
   "execution_count": 3,
   "metadata": {},
   "outputs": [],
   "source": [
    "# dataset\n",
    "dir_data = \"../data\"\n",
    "provider = 'wyscout_opensource'\n",
    "leagues = ['ENG', 'ESP', 'ITA', 'GER', 'FRA']\n",
    "seasons = ['1718']\n",
    "\n",
    "# features\n",
    "store_features = f'../data/{provider}/features.h5'"
   ]
  },
  {
   "cell_type": "markdown",
   "metadata": {},
   "source": [
    "## Pre processing"
   ]
  },
  {
   "cell_type": "markdown",
   "metadata": {},
   "source": [
    "### Load Data"
   ]
  },
  {
   "cell_type": "code",
   "execution_count": 4,
   "metadata": {},
   "outputs": [],
   "source": [
    "api = DataApi([f\"{dir_data}/{provider}/spadl-{provider}-{l}-{s}.h5\" \n",
    "        for (l,s) in itertools.product(leagues, seasons)])"
   ]
  },
  {
   "cell_type": "markdown",
   "metadata": {},
   "source": [
    "### Load Features"
   ]
  },
  {
   "cell_type": "code",
   "execution_count": 5,
   "metadata": {},
   "outputs": [
    {
     "data": {
      "text/html": [
       "<div>\n",
       "<style scoped>\n",
       "    .dataframe tbody tr th:only-of-type {\n",
       "        vertical-align: middle;\n",
       "    }\n",
       "\n",
       "    .dataframe tbody tr th {\n",
       "        vertical-align: top;\n",
       "    }\n",
       "\n",
       "    .dataframe thead th {\n",
       "        text-align: right;\n",
       "    }\n",
       "</style>\n",
       "<table border=\"1\" class=\"dataframe\">\n",
       "  <thead>\n",
       "    <tr style=\"text-align: right;\">\n",
       "      <th></th>\n",
       "      <th></th>\n",
       "      <th>type_id_a0</th>\n",
       "      <th>type_id_a1</th>\n",
       "      <th>type_id_a2</th>\n",
       "      <th>bodypart_id_a0</th>\n",
       "      <th>bodypart_id_a1</th>\n",
       "      <th>bodypart_id_a2</th>\n",
       "      <th>result_id_a1</th>\n",
       "      <th>result_id_a2</th>\n",
       "      <th>start_x_a0</th>\n",
       "      <th>start_y_a0</th>\n",
       "      <th>...</th>\n",
       "      <th>speed_a02</th>\n",
       "      <th>shot_angle_a0</th>\n",
       "      <th>shot_angle_a1</th>\n",
       "      <th>shot_angle_a2</th>\n",
       "      <th>caley_zone_a0</th>\n",
       "      <th>caley_zone_a1</th>\n",
       "      <th>caley_zone_a2</th>\n",
       "      <th>angle_zone_a0</th>\n",
       "      <th>angle_zone_a1</th>\n",
       "      <th>angle_zone_a2</th>\n",
       "    </tr>\n",
       "    <tr>\n",
       "      <th>game_id</th>\n",
       "      <th>action_id</th>\n",
       "      <th></th>\n",
       "      <th></th>\n",
       "      <th></th>\n",
       "      <th></th>\n",
       "      <th></th>\n",
       "      <th></th>\n",
       "      <th></th>\n",
       "      <th></th>\n",
       "      <th></th>\n",
       "      <th></th>\n",
       "      <th></th>\n",
       "      <th></th>\n",
       "      <th></th>\n",
       "      <th></th>\n",
       "      <th></th>\n",
       "      <th></th>\n",
       "      <th></th>\n",
       "      <th></th>\n",
       "      <th></th>\n",
       "      <th></th>\n",
       "      <th></th>\n",
       "    </tr>\n",
       "  </thead>\n",
       "  <tbody>\n",
       "    <tr>\n",
       "      <th rowspan=\"5\" valign=\"top\">2500098</th>\n",
       "      <th>17</th>\n",
       "      <td>shot</td>\n",
       "      <td>dribble</td>\n",
       "      <td>cross</td>\n",
       "      <td>foot</td>\n",
       "      <td>foot</td>\n",
       "      <td>foot</td>\n",
       "      <td>success</td>\n",
       "      <td>success</td>\n",
       "      <td>99.75</td>\n",
       "      <td>26.52</td>\n",
       "      <td>...</td>\n",
       "      <td>1.319750</td>\n",
       "      <td>0.499778</td>\n",
       "      <td>0.483780</td>\n",
       "      <td>0.065500</td>\n",
       "      <td>2</td>\n",
       "      <td>3</td>\n",
       "      <td>8</td>\n",
       "      <td>9</td>\n",
       "      <td>12</td>\n",
       "      <td>18</td>\n",
       "    </tr>\n",
       "    <tr>\n",
       "      <th>40</th>\n",
       "      <td>shot</td>\n",
       "      <td>corner_crossed</td>\n",
       "      <td>pass</td>\n",
       "      <td>foot</td>\n",
       "      <td>foot</td>\n",
       "      <td>foot</td>\n",
       "      <td>success</td>\n",
       "      <td>fail</td>\n",
       "      <td>91.35</td>\n",
       "      <td>35.36</td>\n",
       "      <td>...</td>\n",
       "      <td>4.249364</td>\n",
       "      <td>0.517985</td>\n",
       "      <td>0.000000</td>\n",
       "      <td>0.363334</td>\n",
       "      <td>3</td>\n",
       "      <td>8</td>\n",
       "      <td>4</td>\n",
       "      <td>12</td>\n",
       "      <td>21</td>\n",
       "      <td>12</td>\n",
       "    </tr>\n",
       "    <tr>\n",
       "      <th>77</th>\n",
       "      <td>shot</td>\n",
       "      <td>clearance</td>\n",
       "      <td>cross</td>\n",
       "      <td>foot</td>\n",
       "      <td>foot</td>\n",
       "      <td>foot</td>\n",
       "      <td>fail</td>\n",
       "      <td>fail</td>\n",
       "      <td>75.60</td>\n",
       "      <td>29.92</td>\n",
       "      <td>...</td>\n",
       "      <td>5.874066</td>\n",
       "      <td>0.242481</td>\n",
       "      <td>0.491555</td>\n",
       "      <td>0.043863</td>\n",
       "      <td>6</td>\n",
       "      <td>3</td>\n",
       "      <td>0</td>\n",
       "      <td>18</td>\n",
       "      <td>12</td>\n",
       "      <td>18</td>\n",
       "    </tr>\n",
       "    <tr>\n",
       "      <th>140</th>\n",
       "      <td>shot</td>\n",
       "      <td>cross</td>\n",
       "      <td>dribble</td>\n",
       "      <td>foot</td>\n",
       "      <td>foot</td>\n",
       "      <td>foot</td>\n",
       "      <td>success</td>\n",
       "      <td>success</td>\n",
       "      <td>92.40</td>\n",
       "      <td>43.52</td>\n",
       "      <td>...</td>\n",
       "      <td>2.061543</td>\n",
       "      <td>0.371538</td>\n",
       "      <td>0.134860</td>\n",
       "      <td>0.167545</td>\n",
       "      <td>4</td>\n",
       "      <td>5</td>\n",
       "      <td>0</td>\n",
       "      <td>12</td>\n",
       "      <td>15</td>\n",
       "      <td>18</td>\n",
       "    </tr>\n",
       "    <tr>\n",
       "      <th>145</th>\n",
       "      <td>shot</td>\n",
       "      <td>pass</td>\n",
       "      <td>pass</td>\n",
       "      <td>foot</td>\n",
       "      <td>foot</td>\n",
       "      <td>foot</td>\n",
       "      <td>success</td>\n",
       "      <td>success</td>\n",
       "      <td>99.75</td>\n",
       "      <td>37.40</td>\n",
       "      <td>...</td>\n",
       "      <td>1.289870</td>\n",
       "      <td>0.978291</td>\n",
       "      <td>0.654611</td>\n",
       "      <td>0.320841</td>\n",
       "      <td>1</td>\n",
       "      <td>3</td>\n",
       "      <td>4</td>\n",
       "      <td>6</td>\n",
       "      <td>9</td>\n",
       "      <td>15</td>\n",
       "    </tr>\n",
       "  </tbody>\n",
       "</table>\n",
       "<p>5 rows × 59 columns</p>\n",
       "</div>"
      ],
      "text/plain": [
       "                  type_id_a0      type_id_a1 type_id_a2 bodypart_id_a0  \\\n",
       "game_id action_id                                                        \n",
       "2500098 17              shot         dribble      cross           foot   \n",
       "        40              shot  corner_crossed       pass           foot   \n",
       "        77              shot       clearance      cross           foot   \n",
       "        140             shot           cross    dribble           foot   \n",
       "        145             shot            pass       pass           foot   \n",
       "\n",
       "                  bodypart_id_a1 bodypart_id_a2 result_id_a1 result_id_a2  \\\n",
       "game_id action_id                                                           \n",
       "2500098 17                  foot           foot      success      success   \n",
       "        40                  foot           foot      success         fail   \n",
       "        77                  foot           foot         fail         fail   \n",
       "        140                 foot           foot      success      success   \n",
       "        145                 foot           foot      success      success   \n",
       "\n",
       "                   start_x_a0  start_y_a0  ...  speed_a02  shot_angle_a0  \\\n",
       "game_id action_id                          ...                             \n",
       "2500098 17              99.75       26.52  ...   1.319750       0.499778   \n",
       "        40              91.35       35.36  ...   4.249364       0.517985   \n",
       "        77              75.60       29.92  ...   5.874066       0.242481   \n",
       "        140             92.40       43.52  ...   2.061543       0.371538   \n",
       "        145             99.75       37.40  ...   1.289870       0.978291   \n",
       "\n",
       "                   shot_angle_a1  shot_angle_a2  caley_zone_a0  caley_zone_a1  \\\n",
       "game_id action_id                                                               \n",
       "2500098 17              0.483780       0.065500              2              3   \n",
       "        40              0.000000       0.363334              3              8   \n",
       "        77              0.491555       0.043863              6              3   \n",
       "        140             0.134860       0.167545              4              5   \n",
       "        145             0.654611       0.320841              1              3   \n",
       "\n",
       "                   caley_zone_a2  angle_zone_a0  angle_zone_a1  angle_zone_a2  \n",
       "game_id action_id                                                              \n",
       "2500098 17                     8              9             12             18  \n",
       "        40                     4             12             21             12  \n",
       "        77                     0             18             12             18  \n",
       "        140                    0             12             15             18  \n",
       "        145                    4              6              9             15  \n",
       "\n",
       "[5 rows x 59 columns]"
      ]
     },
     "metadata": {},
     "output_type": "display_data"
    },
    {
     "data": {
      "text/html": [
       "<div>\n",
       "<style scoped>\n",
       "    .dataframe tbody tr th:only-of-type {\n",
       "        vertical-align: middle;\n",
       "    }\n",
       "\n",
       "    .dataframe tbody tr th {\n",
       "        vertical-align: top;\n",
       "    }\n",
       "\n",
       "    .dataframe thead th {\n",
       "        text-align: right;\n",
       "    }\n",
       "</style>\n",
       "<table border=\"1\" class=\"dataframe\">\n",
       "  <thead>\n",
       "    <tr style=\"text-align: right;\">\n",
       "      <th></th>\n",
       "      <th></th>\n",
       "      <th>goal</th>\n",
       "    </tr>\n",
       "    <tr>\n",
       "      <th>game_id</th>\n",
       "      <th>action_id</th>\n",
       "      <th></th>\n",
       "    </tr>\n",
       "  </thead>\n",
       "  <tbody>\n",
       "    <tr>\n",
       "      <th rowspan=\"5\" valign=\"top\">2500098</th>\n",
       "      <th>17</th>\n",
       "      <td>False</td>\n",
       "    </tr>\n",
       "    <tr>\n",
       "      <th>40</th>\n",
       "      <td>False</td>\n",
       "    </tr>\n",
       "    <tr>\n",
       "      <th>77</th>\n",
       "      <td>False</td>\n",
       "    </tr>\n",
       "    <tr>\n",
       "      <th>140</th>\n",
       "      <td>False</td>\n",
       "    </tr>\n",
       "    <tr>\n",
       "      <th>145</th>\n",
       "      <td>False</td>\n",
       "    </tr>\n",
       "  </tbody>\n",
       "</table>\n",
       "</div>"
      ],
      "text/plain": [
       "                    goal\n",
       "game_id action_id       \n",
       "2500098 17         False\n",
       "        40         False\n",
       "        77         False\n",
       "        140        False\n",
       "        145        False"
      ]
     },
     "metadata": {},
     "output_type": "display_data"
    }
   ],
   "source": [
    "features = []\n",
    "labels = []\n",
    "# load features and labels for each season\n",
    "for (l,s) in itertools.product(leagues, seasons):\n",
    "    try:\n",
    "        features.append(pd.read_hdf(store_features, key=f'{l}/{s}/features'))\n",
    "        labels.append(pd.read_hdf(store_features, key=f'{l}/{s}/labels'))\n",
    "    except KeyError:\n",
    "        print(f\"Key not found for league {l} and season {s}\")\n",
    "features = pd.concat(features)\n",
    "labels = pd.concat(labels)\n",
    "# filter open play shots\n",
    "open_play_idx = features[features.type_id_a0 == 'shot'].index\n",
    "features = features.loc[open_play_idx]\n",
    "labels = labels.loc[open_play_idx]\n",
    "\n",
    "display(features.head())\n",
    "display(labels.to_frame().head())"
   ]
  },
  {
   "cell_type": "code",
   "execution_count": 6,
   "metadata": {},
   "outputs": [
    {
     "data": {
      "text/plain": [
       "type_id_a0                category\n",
       "type_id_a1                category\n",
       "type_id_a2                category\n",
       "bodypart_id_a0            category\n",
       "bodypart_id_a1            category\n",
       "bodypart_id_a2            category\n",
       "result_id_a1              category\n",
       "result_id_a2              category\n",
       "start_x_a0                 float64\n",
       "start_y_a0                 float64\n",
       "start_x_a1                 float64\n",
       "start_y_a1                 float64\n",
       "start_x_a2                 float64\n",
       "start_y_a2                 float64\n",
       "end_x_a1                   float64\n",
       "end_y_a1                   float64\n",
       "end_x_a2                   float64\n",
       "end_y_a2                   float64\n",
       "dx_a1                      float64\n",
       "dy_a1                      float64\n",
       "movement_a1                float64\n",
       "dx_a2                      float64\n",
       "dy_a2                      float64\n",
       "movement_a2                float64\n",
       "dx_a01                     float64\n",
       "dy_a01                     float64\n",
       "mov_a01                    float64\n",
       "dx_a02                     float64\n",
       "dy_a02                     float64\n",
       "mov_a02                    float64\n",
       "start_dist_to_goal_a0      float64\n",
       "start_angle_to_goal_a0     float64\n",
       "start_dist_to_goal_a1      float64\n",
       "start_angle_to_goal_a1     float64\n",
       "start_dist_to_goal_a2      float64\n",
       "start_angle_to_goal_a2     float64\n",
       "end_dist_to_goal_a1        float64\n",
       "end_angle_to_goal_a1       float64\n",
       "end_dist_to_goal_a2        float64\n",
       "end_angle_to_goal_a2       float64\n",
       "team_1                        bool\n",
       "team_2                        bool\n",
       "time_delta_1               float64\n",
       "time_delta_2               float64\n",
       "speedx_a01                 float64\n",
       "speedy_a01                 float64\n",
       "speed_a01                  float64\n",
       "speedx_a02                 float64\n",
       "speedy_a02                 float64\n",
       "speed_a02                  float64\n",
       "shot_angle_a0              float64\n",
       "shot_angle_a1              float64\n",
       "shot_angle_a2              float64\n",
       "caley_zone_a0             category\n",
       "caley_zone_a1             category\n",
       "caley_zone_a2             category\n",
       "angle_zone_a0             category\n",
       "angle_zone_a1             category\n",
       "angle_zone_a2             category\n",
       "dtype: object"
      ]
     },
     "execution_count": 6,
     "metadata": {},
     "output_type": "execute_result"
    }
   ],
   "source": [
    "features.dtypes"
   ]
  },
  {
   "cell_type": "markdown",
   "metadata": {},
   "source": [
    "### Split train and test "
   ]
  },
  {
   "cell_type": "code",
   "execution_count": 7,
   "metadata": {},
   "outputs": [],
   "source": [
    "games_train, games_val, games_test = sample_temporal(api, size_val=0.2, size_test=0.3)\n",
    "\n",
    "X_train, y_train = features.loc[games_train], labels.loc[games_train]\n",
    "data_train = X_train.assign(goal=y_train)\n",
    "X_val, y_val = features.loc[games_val], labels.loc[games_val]\n",
    "data_val = X_train.assign(goal=y_val)\n",
    "X_test, y_test = features.loc[games_test], labels.loc[games_test]\n",
    "data_test = X_test.assign(goal=y_test)"
   ]
  },
  {
   "cell_type": "code",
   "execution_count": 8,
   "metadata": {},
   "outputs": [
    {
     "name": "stdout",
     "output_type": "stream",
     "text": [
      "dataset = train\n",
      "shape = (20652, 59)\n",
      "--------------------\n",
      "dataset = val\n",
      "shape = (7781, 59)\n",
      "--------------------\n",
      "dataset = test\n",
      "shape = (11965, 59)\n",
      "--------------------\n"
     ]
    }
   ],
   "source": [
    "for name, X in [(\"train\", X_train), (\"val\", X_val), (\"test\", X_test)]:\n",
    "    print(\"dataset =\", name)\n",
    "    print(\"shape =\", X.shape)\n",
    "    print(\"-\" * 20)"
   ]
  },
  {
   "cell_type": "markdown",
   "metadata": {},
   "source": [
    "## Learning "
   ]
  },
  {
   "cell_type": "markdown",
   "metadata": {},
   "source": [
    "### Feature selection"
   ]
  },
  {
   "cell_type": "code",
   "execution_count": 9,
   "metadata": {},
   "outputs": [],
   "source": [
    "from sklearn.preprocessing import OneHotEncoder\n",
    "import numpy as np\n",
    "\n",
    "# Separate numerical and categorical columns\n",
    "numerical_columns = X_train.select_dtypes(include=['float64', 'int']).columns\n",
    "categorical_columns = X_train.select_dtypes(include=['object', 'category']).columns\n",
    "\n",
    "# Encode categorical features\n",
    "encoder = OneHotEncoder(sparse=False, handle_unknown='ignore')\n",
    "categorical_data = encoder.fit_transform(X_train[categorical_columns])\n",
    "\n",
    "# Combine numerical and categorical data\n",
    "numerical_data = X_train[numerical_columns].values\n",
    "processed_data = np.hstack([numerical_data, categorical_data])\n",
    "\n",
    "# Reshape for Conv1D\n",
    "processed_data = processed_data.reshape((processed_data.shape[0], processed_data.shape[1], 1))\n",
    "\n",
    "# Update input shape for the model\n",
    "input_shape = (processed_data.shape[1], 1)\n",
    "\n"
   ]
  },
  {
   "cell_type": "code",
   "execution_count": 10,
   "metadata": {},
   "outputs": [
    {
     "name": "stdout",
     "output_type": "stream",
     "text": [
      "Epoch 1/50\n",
      "1033/1033 [==============================] - 15s 13ms/step - loss: 0.3143 - negative_brier_score: -0.0880 - val_loss: 0.2684 - val_negative_brier_score: -0.0773\n",
      "Epoch 2/50\n",
      "1033/1033 [==============================] - 12s 12ms/step - loss: 0.2941 - negative_brier_score: -0.0838 - val_loss: 0.2635 - val_negative_brier_score: -0.0759\n",
      "Epoch 3/50\n",
      "1033/1033 [==============================] - 12s 11ms/step - loss: 0.2910 - negative_brier_score: -0.0832 - val_loss: 0.2756 - val_negative_brier_score: -0.0805\n",
      "Epoch 4/50\n",
      "1033/1033 [==============================] - 12s 11ms/step - loss: 0.2896 - negative_brier_score: -0.0828 - val_loss: 0.2714 - val_negative_brier_score: -0.0772\n",
      "Epoch 5/50\n",
      "1033/1033 [==============================] - 12s 12ms/step - loss: 0.2888 - negative_brier_score: -0.0826 - val_loss: 0.2702 - val_negative_brier_score: -0.0770\n",
      "Epoch 6/50\n",
      "1033/1033 [==============================] - 11s 11ms/step - loss: 0.2884 - negative_brier_score: -0.0825 - val_loss: 0.2628 - val_negative_brier_score: -0.0765\n",
      "Epoch 7/50\n",
      "1033/1033 [==============================] - 11s 11ms/step - loss: 0.2871 - negative_brier_score: -0.0822 - val_loss: 0.2686 - val_negative_brier_score: -0.0769\n",
      "Epoch 8/50\n",
      "1033/1033 [==============================] - 11s 11ms/step - loss: 0.2878 - negative_brier_score: -0.0818 - val_loss: 0.2758 - val_negative_brier_score: -0.0781\n",
      "Epoch 9/50\n",
      "1033/1033 [==============================] - 11s 11ms/step - loss: 0.2864 - negative_brier_score: -0.0819 - val_loss: 0.2842 - val_negative_brier_score: -0.0797\n",
      "Epoch 10/50\n",
      "1033/1033 [==============================] - 11s 11ms/step - loss: 0.2853 - negative_brier_score: -0.0817 - val_loss: 0.2727 - val_negative_brier_score: -0.0775\n",
      "Epoch 11/50\n",
      "1033/1033 [==============================] - 11s 11ms/step - loss: 0.2853 - negative_brier_score: -0.0816 - val_loss: 0.2696 - val_negative_brier_score: -0.0789\n",
      "Epoch 12/50\n",
      "1033/1033 [==============================] - 11s 11ms/step - loss: 0.2842 - negative_brier_score: -0.0814 - val_loss: 0.2719 - val_negative_brier_score: -0.0791\n",
      "Epoch 13/50\n",
      "1033/1033 [==============================] - 11s 11ms/step - loss: 0.2831 - negative_brier_score: -0.0810 - val_loss: 0.2720 - val_negative_brier_score: -0.0772\n",
      "Epoch 14/50\n",
      "1033/1033 [==============================] - 12s 12ms/step - loss: 0.2831 - negative_brier_score: -0.0811 - val_loss: 0.2880 - val_negative_brier_score: -0.0805\n",
      "Epoch 15/50\n",
      "1033/1033 [==============================] - 12s 12ms/step - loss: 0.2825 - negative_brier_score: -0.0809 - val_loss: 0.2630 - val_negative_brier_score: -0.0758\n",
      "Epoch 16/50\n",
      "1033/1033 [==============================] - 11s 11ms/step - loss: 0.2825 - negative_brier_score: -0.0808 - val_loss: 0.2619 - val_negative_brier_score: -0.0756\n",
      "Epoch 17/50\n",
      "1033/1033 [==============================] - 12s 11ms/step - loss: 0.2817 - negative_brier_score: -0.0805 - val_loss: 0.2615 - val_negative_brier_score: -0.0756\n",
      "Epoch 18/50\n",
      "1033/1033 [==============================] - 12s 12ms/step - loss: 0.2808 - negative_brier_score: -0.0805 - val_loss: 0.2631 - val_negative_brier_score: -0.0763\n",
      "Epoch 19/50\n",
      "1033/1033 [==============================] - 11s 11ms/step - loss: 0.2808 - negative_brier_score: -0.0804 - val_loss: 0.2634 - val_negative_brier_score: -0.0760\n",
      "Epoch 20/50\n",
      "1033/1033 [==============================] - 11s 11ms/step - loss: 0.2814 - negative_brier_score: -0.0807 - val_loss: 0.2639 - val_negative_brier_score: -0.0765\n",
      "Epoch 21/50\n",
      "1033/1033 [==============================] - 11s 11ms/step - loss: 0.2798 - negative_brier_score: -0.0800 - val_loss: 0.2623 - val_negative_brier_score: -0.0751\n",
      "Epoch 22/50\n",
      "1033/1033 [==============================] - 12s 11ms/step - loss: 0.2802 - negative_brier_score: -0.0802 - val_loss: 0.2618 - val_negative_brier_score: -0.0752\n",
      "Epoch 23/50\n",
      "1033/1033 [==============================] - 11s 11ms/step - loss: 0.2809 - negative_brier_score: -0.0803 - val_loss: 0.2595 - val_negative_brier_score: -0.0748\n",
      "Epoch 24/50\n",
      "1033/1033 [==============================] - 12s 11ms/step - loss: 0.2791 - negative_brier_score: -0.0800 - val_loss: 0.2762 - val_negative_brier_score: -0.0806\n",
      "Epoch 25/50\n",
      "1033/1033 [==============================] - 11s 11ms/step - loss: 0.2794 - negative_brier_score: -0.0798 - val_loss: 0.2600 - val_negative_brier_score: -0.0748\n",
      "Epoch 26/50\n",
      "1033/1033 [==============================] - 11s 11ms/step - loss: 0.2771 - negative_brier_score: -0.0791 - val_loss: 0.2638 - val_negative_brier_score: -0.0758\n",
      "Epoch 27/50\n",
      "1033/1033 [==============================] - 11s 11ms/step - loss: 0.2783 - negative_brier_score: -0.0796 - val_loss: 0.2662 - val_negative_brier_score: -0.0757\n",
      "Epoch 28/50\n",
      "1033/1033 [==============================] - 11s 11ms/step - loss: 0.2765 - negative_brier_score: -0.0793 - val_loss: 0.3004 - val_negative_brier_score: -0.0860\n",
      "Epoch 29/50\n",
      "1033/1033 [==============================] - 11s 11ms/step - loss: 0.2774 - negative_brier_score: -0.0794 - val_loss: 0.2645 - val_negative_brier_score: -0.0762\n",
      "Epoch 30/50\n",
      "1033/1033 [==============================] - 12s 12ms/step - loss: 0.2772 - negative_brier_score: -0.0795 - val_loss: 0.2861 - val_negative_brier_score: -0.0832\n",
      "Epoch 31/50\n",
      "1033/1033 [==============================] - 12s 11ms/step - loss: 0.2754 - negative_brier_score: -0.0787 - val_loss: 0.2712 - val_negative_brier_score: -0.0772\n",
      "Epoch 32/50\n",
      "1033/1033 [==============================] - 12s 12ms/step - loss: 0.2765 - negative_brier_score: -0.0793 - val_loss: 0.2643 - val_negative_brier_score: -0.0759\n",
      "Epoch 33/50\n",
      "1033/1033 [==============================] - 12s 11ms/step - loss: 0.2767 - negative_brier_score: -0.0794 - val_loss: 0.2624 - val_negative_brier_score: -0.0756\n",
      "Epoch 34/50\n",
      "1033/1033 [==============================] - 12s 11ms/step - loss: 0.2758 - negative_brier_score: -0.0789 - val_loss: 0.2678 - val_negative_brier_score: -0.0769\n",
      "Epoch 35/50\n",
      "1033/1033 [==============================] - 12s 12ms/step - loss: 0.2766 - negative_brier_score: -0.0792 - val_loss: 0.2659 - val_negative_brier_score: -0.0769\n",
      "Epoch 36/50\n",
      "1033/1033 [==============================] - 12s 11ms/step - loss: 0.2756 - negative_brier_score: -0.0789 - val_loss: 0.2689 - val_negative_brier_score: -0.0772\n",
      "Epoch 37/50\n",
      "1033/1033 [==============================] - 12s 11ms/step - loss: 0.2745 - negative_brier_score: -0.0788 - val_loss: 0.2665 - val_negative_brier_score: -0.0759\n",
      "Epoch 38/50\n",
      "1033/1033 [==============================] - 12s 11ms/step - loss: 0.2753 - negative_brier_score: -0.0789 - val_loss: 0.2666 - val_negative_brier_score: -0.0760\n",
      "Epoch 39/50\n",
      "1033/1033 [==============================] - 12s 11ms/step - loss: 0.2752 - negative_brier_score: -0.0787 - val_loss: 0.2638 - val_negative_brier_score: -0.0752\n",
      "Epoch 40/50\n",
      "1033/1033 [==============================] - 12s 11ms/step - loss: 0.2743 - negative_brier_score: -0.0785 - val_loss: 0.2643 - val_negative_brier_score: -0.0755\n",
      "Epoch 41/50\n",
      "1033/1033 [==============================] - 12s 11ms/step - loss: 0.2750 - negative_brier_score: -0.0788 - val_loss: 0.2671 - val_negative_brier_score: -0.0761\n",
      "Epoch 42/50\n",
      "1033/1033 [==============================] - 12s 11ms/step - loss: 0.2738 - negative_brier_score: -0.0787 - val_loss: 0.2643 - val_negative_brier_score: -0.0756\n",
      "Epoch 43/50\n",
      "1033/1033 [==============================] - 12s 11ms/step - loss: 0.2740 - negative_brier_score: -0.0786 - val_loss: 0.2637 - val_negative_brier_score: -0.0754\n",
      "Epoch 44/50\n",
      "1033/1033 [==============================] - 12s 11ms/step - loss: 0.2729 - negative_brier_score: -0.0781 - val_loss: 0.2770 - val_negative_brier_score: -0.0787\n",
      "Epoch 45/50\n",
      "1033/1033 [==============================] - 12s 11ms/step - loss: 0.2745 - negative_brier_score: -0.0784 - val_loss: 0.2634 - val_negative_brier_score: -0.0754\n",
      "Epoch 46/50\n",
      "1033/1033 [==============================] - 12s 11ms/step - loss: 0.2722 - negative_brier_score: -0.0784 - val_loss: 0.2654 - val_negative_brier_score: -0.0758\n",
      "Epoch 47/50\n",
      "1033/1033 [==============================] - 12s 11ms/step - loss: 0.2722 - negative_brier_score: -0.0782 - val_loss: 0.2682 - val_negative_brier_score: -0.0765\n",
      "Epoch 48/50\n",
      "1033/1033 [==============================] - 13s 12ms/step - loss: 0.2718 - negative_brier_score: -0.0780 - val_loss: 0.2626 - val_negative_brier_score: -0.0754\n",
      "Epoch 49/50\n",
      "1033/1033 [==============================] - 12s 11ms/step - loss: 0.2713 - negative_brier_score: -0.0777 - val_loss: 0.2634 - val_negative_brier_score: -0.0753\n",
      "Epoch 50/50\n",
      "1033/1033 [==============================] - 12s 11ms/step - loss: 0.2720 - negative_brier_score: -0.0780 - val_loss: 0.2682 - val_negative_brier_score: -0.0762\n"
     ]
    },
    {
     "data": {
      "text/plain": [
       "<keras.callbacks.History at 0x20bca1c5f30>"
      ]
     },
     "execution_count": 10,
     "metadata": {},
     "output_type": "execute_result"
    }
   ],
   "source": [
    "import numpy as np\n",
    "import tensorflow as tf\n",
    "from sklearn.metrics import brier_score_loss\n",
    "from keras.models import Model\n",
    "\n",
    "# Define custom negative Brier score metric\n",
    "def negative_brier_score(y_true, y_pred):\n",
    "    y_true = tf.cast(y_true, tf.float32)\n",
    "    return -tf.reduce_mean((y_pred - y_true)**2)\n",
    "\n",
    "# Create the model\n",
    "def build_model(input_shape):\n",
    "    inputs = tf.keras.Input(shape=input_shape)\n",
    "    \n",
    "    # Feature extraction layers\n",
    "    x = tf.keras.layers.Conv1D(64, kernel_size=3, activation='relu', padding='same')(inputs)\n",
    "    x = tf.keras.layers.BatchNormalization()(x)\n",
    "    x = tf.keras.layers.Dropout(0.2)(x)\n",
    "    \n",
    "    x = tf.keras.layers.Conv1D(128, kernel_size=3, activation='relu', padding='same')(x)\n",
    "    x = tf.keras.layers.BatchNormalization()(x)\n",
    "    x = tf.keras.layers.AveragePooling1D(pool_size=3)(x)\n",
    "    x = tf.keras.layers.Dropout(0.2)(x)\n",
    "    \n",
    "    # Dense layer (Feature selection happens here)\n",
    "    x = tf.keras.layers.Flatten()(x)\n",
    "    dense_features = tf.keras.layers.Dense(64, activation='relu', name=\"selected_features\")(x)\n",
    "    outputs = tf.keras.layers.Dense(1, activation='sigmoid')(dense_features)\n",
    "    \n",
    "    # Full model for training and evaluation\n",
    "    model = tf.keras.Model(inputs, outputs)\n",
    "    \n",
    "    # Feature extraction model\n",
    "    feature_extractor = tf.keras.Model(inputs, dense_features)\n",
    "    \n",
    "    return model, feature_extractor\n",
    "\n",
    "# CNN-based feature selection\n",
    "def cnn_feature_selection(trained_cnn_model, X_test, feature_names, num_features):\n",
    "    \"\"\"\n",
    "    Perform CNN-based feature selection.\n",
    "\n",
    "    Parameters:\n",
    "        trained_cnn_model (keras.Model): Trained CNN model.\n",
    "        X_test (numpy.ndarray): Testing dataset.\n",
    "        feature_names (list): List of feature names corresponding to input data.\n",
    "        num_features (int): Desired number of top features to select.\n",
    "\n",
    "    Returns:\n",
    "        list: Names of the selected top features.\n",
    "    \"\"\"\n",
    "    # Extract the last convolutional layer\n",
    "    last_conv_layer = None\n",
    "    for layer in reversed(trained_cnn_model.layers):\n",
    "        if 'conv' in layer.name:\n",
    "            last_conv_layer = layer\n",
    "            break\n",
    "\n",
    "    if not last_conv_layer:\n",
    "        raise ValueError(\"No convolutional layer found in the model.\")\n",
    "\n",
    "    # Create a new model to output the activations of the last convolutional layer\n",
    "    activation_model = Model(inputs=trained_cnn_model.input, outputs=last_conv_layer.output)\n",
    "\n",
    "    # Compute activations for the test data\n",
    "    activations = activation_model.predict(X_test)\n",
    "\n",
    "    # Calculate mean activations across all samples\n",
    "    mean_activations = np.mean(activations, axis=(0, 1))  # Average across samples and spatial dimensions\n",
    "\n",
    "    # Find the indices of the features with the highest mean activations\n",
    "    top_feature_indices = np.argsort(mean_activations)[-num_features:][::-1]\n",
    "\n",
    "    # Map indices to feature names\n",
    "    index_features_cnn = []\n",
    "    top_feature_names = []\n",
    "    for index in top_feature_indices:\n",
    "        if index < len(feature_names):\n",
    "            top_feature_names.append(feature_names[index])\n",
    "            index_features_cnn.append(index)\n",
    "\n",
    "    return top_feature_names, index_features_cnn\n",
    "\n",
    "# Compile the model\n",
    "input_shape = (144, 1) \n",
    "\n",
    "# Build and train the model\n",
    "model, feature_extractor = build_model(input_shape)\n",
    "model.compile(optimizer='adam', loss='binary_crossentropy', metrics=[negative_brier_score])\n",
    "model.fit(processed_data, y_train, epochs=50, batch_size=16, validation_split=0.2)"
   ]
  },
  {
   "cell_type": "code",
   "execution_count": 11,
   "metadata": {},
   "outputs": [
    {
     "name": "stdout",
     "output_type": "stream",
     "text": [
      "Model: \"model\"\n",
      "_________________________________________________________________\n",
      " Layer (type)                Output Shape              Param #   \n",
      "=================================================================\n",
      " input_1 (InputLayer)        [(None, 144, 1)]          0         \n",
      "                                                                 \n",
      " conv1d (Conv1D)             (None, 144, 64)           256       \n",
      "                                                                 \n",
      " batch_normalization (BatchN  (None, 144, 64)          256       \n",
      " ormalization)                                                   \n",
      "                                                                 \n",
      " dropout (Dropout)           (None, 144, 64)           0         \n",
      "                                                                 \n",
      " conv1d_1 (Conv1D)           (None, 144, 128)          24704     \n",
      "                                                                 \n",
      " batch_normalization_1 (Batc  (None, 144, 128)         512       \n",
      " hNormalization)                                                 \n",
      "                                                                 \n",
      " average_pooling1d (AverageP  (None, 48, 128)          0         \n",
      " ooling1D)                                                       \n",
      "                                                                 \n",
      " dropout_1 (Dropout)         (None, 48, 128)           0         \n",
      "                                                                 \n",
      " flatten (Flatten)           (None, 6144)              0         \n",
      "                                                                 \n",
      " selected_features (Dense)   (None, 64)                393280    \n",
      "                                                                 \n",
      " dense (Dense)               (None, 1)                 65        \n",
      "                                                                 \n",
      "=================================================================\n",
      "Total params: 419,073\n",
      "Trainable params: 418,689\n",
      "Non-trainable params: 384\n",
      "_________________________________________________________________\n"
     ]
    }
   ],
   "source": [
    "model.summary()"
   ]
  },
  {
   "cell_type": "code",
   "execution_count": 12,
   "metadata": {},
   "outputs": [
    {
     "name": "stdout",
     "output_type": "stream",
     "text": [
      "Numerical features: ['start_x_a0', 'start_y_a0', 'start_x_a1', 'start_y_a1', 'start_x_a2', 'start_y_a2', 'end_x_a1', 'end_y_a1', 'end_x_a2', 'end_y_a2', 'dx_a1', 'dy_a1', 'movement_a1', 'dx_a2', 'dy_a2', 'movement_a2', 'dx_a01', 'dy_a01', 'mov_a01', 'dx_a02', 'dy_a02', 'mov_a02', 'start_dist_to_goal_a0', 'start_angle_to_goal_a0', 'start_dist_to_goal_a1', 'start_angle_to_goal_a1', 'start_dist_to_goal_a2', 'start_angle_to_goal_a2', 'end_dist_to_goal_a1', 'end_angle_to_goal_a1', 'end_dist_to_goal_a2', 'end_angle_to_goal_a2', 'time_delta_1', 'time_delta_2', 'speedx_a01', 'speedy_a01', 'speed_a01', 'speedx_a02', 'speedy_a02', 'speed_a02', 'shot_angle_a0', 'shot_angle_a1', 'shot_angle_a2']\n",
      "Categorical features: ['type_id_a0', 'type_id_a1', 'type_id_a2', 'bodypart_id_a0', 'bodypart_id_a1', 'bodypart_id_a2', 'result_id_a1', 'result_id_a2', 'caley_zone_a0', 'caley_zone_a1', 'caley_zone_a2', 'angle_zone_a0', 'angle_zone_a1', 'angle_zone_a2']\n"
     ]
    }
   ],
   "source": [
    "NUM = features.select_dtypes(include=['float64']).columns.tolist()\n",
    "\n",
    "CAT = features.select_dtypes(include=['object', 'category']).columns.tolist()\n",
    "\n",
    "print(\"Numerical features:\", NUM)\n",
    "print(\"Categorical features:\", CAT)"
   ]
  },
  {
   "cell_type": "code",
   "execution_count": 13,
   "metadata": {},
   "outputs": [
    {
     "name": "stdout",
     "output_type": "stream",
     "text": [
      "144\n"
     ]
    }
   ],
   "source": [
    "index_cat = []\n",
    "for col in CAT:\n",
    "    value_counts = features[col].value_counts()\n",
    "    \n",
    "    non_zero_counts = value_counts[value_counts > 1]\n",
    "\n",
    "    for i in range(len(non_zero_counts)):\n",
    "        index_cat.append(col)\n",
    "\n",
    "index_features = index_cat + NUM\n",
    "print(len(index_features))\n"
   ]
  },
  {
   "cell_type": "code",
   "execution_count": 14,
   "metadata": {},
   "outputs": [],
   "source": [
    "# Handle categorical and numerical data in X_test\n",
    "X_test_categorical = encoder.transform(X_test[categorical_columns])  # Encode categories\n",
    "X_test_numerical = X_test[numerical_columns].values  # Extract numerical features\n",
    "X_test_processed = np.hstack([X_test_numerical, X_test_categorical])  # Combine features\n",
    "\n",
    "# Reshape for Conv1D\n",
    "X_test_processed = X_test_processed.reshape((X_test_processed.shape[0], X_test_processed.shape[1], 1))\n",
    "\n",
    "# Verify data type\n",
    "X_test_processed = np.array(X_test_processed, dtype=np.float32)"
   ]
  },
  {
   "cell_type": "code",
   "execution_count": 15,
   "metadata": {},
   "outputs": [
    {
     "name": "stdout",
     "output_type": "stream",
     "text": [
      "374/374 [==============================] - 1s 2ms/step\n",
      "Top features: ['caley_zone_a2', 'start_y_a0', 'angle_zone_a0', 'start_dist_to_goal_a0', 'dx_a2', 'dx_a02', 'caley_zone_a1', 'caley_zone_a1', 'type_id_a1', 'start_x_a0', 'dx_a01', 'angle_zone_a0', 'start_angle_to_goal_a1', 'end_y_a1', 'angle_zone_a0', 'caley_zone_a0', 'type_id_a1', 'result_id_a1', 'type_id_a2', 'bodypart_id_a0', 'angle_zone_a1', 'type_id_a1', 'end_x_a1', 'caley_zone_a2', 'type_id_a0', 'result_id_a2', 'type_id_a2', 'start_x_a2', 'type_id_a2', 'type_id_a1', 'type_id_a2', 'type_id_a1', 'result_id_a1', 'mov_a02', 'bodypart_id_a0', 'dy_a01', 'bodypart_id_a2', 'angle_zone_a2', 'type_id_a2', 'type_id_a1', 'angle_zone_a0', 'type_id_a1', 'caley_zone_a0', 'type_id_a2', 'angle_zone_a2', 'angle_zone_a0', 'angle_zone_a1', 'bodypart_id_a1', 'caley_zone_a2', 'start_y_a1', 'bodypart_id_a1', 'start_dist_to_goal_a2', 'bodypart_id_a2', 'type_id_a1', 'caley_zone_a2', 'type_id_a1', 'type_id_a2', 'type_id_a2', 'dy_a02', 'caley_zone_a0', 'angle_zone_a1', 'start_angle_to_goal_a0', 'type_id_a2', 'caley_zone_a0']\n",
      "cnn_features_index: [72, 102, 75, 123, 114, 120, 60, 57, 10, 101, 117, 78, 126, 108, 82, 52, 9, 42, 20, 35, 91, 3, 107, 69, 0, 46, 21, 105, 24, 1, 33, 11, 43, 122, 34, 118, 39, 94, 23, 5, 74, 8, 55, 17, 99, 76, 88, 36, 68, 104, 38, 127, 40, 4, 73, 7, 22, 19, 121, 47, 83, 124, 27, 49]\n"
     ]
    }
   ],
   "source": [
    "# Perform feature selection\n",
    "top_features,cnn_features_index = cnn_feature_selection(model, X_test_processed, index_features, num_features=64)\n",
    "print(\"Top features:\", top_features)\n",
    "print(\"cnn_features_index:\", cnn_features_index)"
   ]
  },
  {
   "cell_type": "code",
   "execution_count": 16,
   "metadata": {},
   "outputs": [
    {
     "name": "stdout",
     "output_type": "stream",
     "text": [
      "64\n"
     ]
    }
   ],
   "source": [
    "print(len(cnn_features_index))"
   ]
  },
  {
   "cell_type": "markdown",
   "metadata": {},
   "source": [
    "### Logistic regression"
   ]
  },
  {
   "cell_type": "markdown",
   "metadata": {},
   "source": [
    "### Train test val split for logistic regression"
   ]
  },
  {
   "cell_type": "code",
   "execution_count": 51,
   "metadata": {},
   "outputs": [],
   "source": [
    "games_train, games_val, games_test = sample_temporal(api, size_val=0.2, size_test=0.3)\n",
    "\n",
    "X_train, y_train = features.loc[games_train], labels.loc[games_train]\n",
    "data_train = X_train.assign(goal=y_train)\n",
    "X_val, y_val = features.loc[games_val], labels.loc[games_val]\n",
    "data_val = X_train.assign(goal=y_val)\n",
    "X_test, y_test = features.loc[games_test], labels.loc[games_test]\n",
    "data_test = X_test.assign(goal=y_test)"
   ]
  },
  {
   "cell_type": "markdown",
   "metadata": {},
   "source": [
    "### Use the selected features from the cnn "
   ]
  },
  {
   "cell_type": "code",
   "execution_count": 52,
   "metadata": {},
   "outputs": [],
   "source": [
    "%autoreload 2\n",
    "from soccer_xg.ml import logreg"
   ]
  },
  {
   "cell_type": "code",
   "execution_count": 53,
   "metadata": {},
   "outputs": [],
   "source": [
    "import numpy as np\n",
    "from sklearn.linear_model import LogisticRegression\n",
    "from sklearn.pipeline import Pipeline\n",
    "from sklearn.model_selection import RandomizedSearchCV\n",
    "from soccer_xg.ml.preprocessing import simple_proc_for_linear_algoritms\n",
    "\n",
    "class FeatureSelector:\n",
    "    def __init__(self, feature_indices):\n",
    "        self.feature_indices = feature_indices\n",
    "\n",
    "    def transform(self, X):\n",
    "        return X[:, self.feature_indices]\n",
    "\n",
    "    def fit(self, X, y=None):\n",
    "        return self  \n",
    "\n",
    "def logreg_gridsearch_model(\n",
    "    numeric_features,\n",
    "    categoric_features,\n",
    "    cnn_features_index,\n",
    "    n_iter=100,\n",
    "    scoring='roc_auc'\n",
    "):\n",
    "    \"\"\"\n",
    "    Logistic regression pipeline with feature selection and hyperparameter tuning.\n",
    "    \"\"\"\n",
    "    param_space = {\n",
    "        'clf__C': np.logspace(-5, 5, 100),\n",
    "        'clf__class_weight': ['balanced', None],\n",
    "    }\n",
    "\n",
    "    pipe = Pipeline(\n",
    "        [\n",
    "            ('preprocessing', simple_proc_for_linear_algoritms(\n",
    "                numeric_features, categoric_features)),\n",
    "            ('feature_selection', FeatureSelector(cnn_features_index)),\n",
    "            ('clf', LogisticRegression(max_iter=10000, fit_intercept=False)),\n",
    "        ]\n",
    "    )\n",
    "\n",
    "    return RandomizedSearchCV(\n",
    "        pipe, param_space, n_iter=n_iter, scoring=scoring, cv=5\n",
    "    )\n"
   ]
  },
  {
   "cell_type": "code",
   "execution_count": 54,
   "metadata": {},
   "outputs": [],
   "source": [
    "search_logreg = logreg_gridsearch_model(\n",
    "    numeric_features=NUM,\n",
    "    categoric_features=CAT,\n",
    "    scoring='recall',\n",
    "    cnn_features_index=cnn_features_index,\n",
    "    n_iter=1000\n",
    ")"
   ]
  },
  {
   "cell_type": "code",
   "execution_count": 55,
   "metadata": {},
   "outputs": [
    {
     "name": "stderr",
     "output_type": "stream",
     "text": [
      "c:\\Users\\dolun\\Desktop\\bachelorproef\\poc\\xgvenv\\lib\\site-packages\\sklearn\\model_selection\\_search.py:277: UserWarning: The total space of parameters 200 is smaller than n_iter=1000. Running 200 iterations. For exhaustive searches, use GridSearchCV.\n",
      "  warnings.warn(\n"
     ]
    },
    {
     "data": {
      "text/plain": [
       "RandomizedSearchCV(cv=5, error_score=nan,\n",
       "                   estimator=Pipeline(memory=None,\n",
       "                                      steps=[('preprocessing',\n",
       "                                              FeatureUnion(n_jobs=None,\n",
       "                                                           transformer_list=[('pipeline-1',\n",
       "                                                                              Pipeline(memory=None,\n",
       "                                                                                       steps=[('columnsselector',\n",
       "                                                                                               ColumnsSelector(columns=['type_id_a0',\n",
       "                                                                                                                        'type_id_a1',\n",
       "                                                                                                                        'type_id_a2',\n",
       "                                                                                                                        'bodypart_id_a0',\n",
       "                                                                                                                        'bodypart_id_a1',\n",
       "                                                                                                                        'bodypart_id_a2',\n",
       "                                                                                                                        'result_id_a1',\n",
       "                                                                                                                        'result_id_a2',\n",
       "                                                                                                                        'caley...\n",
       "       3.05385551e+03, 3.85352859e+03, 4.86260158e+03, 6.13590727e+03,\n",
       "       7.74263683e+03, 9.77009957e+03, 1.23284674e+04, 1.55567614e+04,\n",
       "       1.96304065e+04, 2.47707636e+04, 3.12571585e+04, 3.94420606e+04,\n",
       "       4.97702356e+04, 6.28029144e+04, 7.92482898e+04, 1.00000000e+05]),\n",
       "                                        'clf__class_weight': ['balanced',\n",
       "                                                              None]},\n",
       "                   pre_dispatch='2*n_jobs', random_state=None, refit=True,\n",
       "                   return_train_score=False, scoring='recall', verbose=0)"
      ]
     },
     "execution_count": 55,
     "metadata": {},
     "output_type": "execute_result"
    }
   ],
   "source": [
    "search_logreg.fit(X_train, y_train)"
   ]
  },
  {
   "cell_type": "code",
   "execution_count": 56,
   "metadata": {},
   "outputs": [
    {
     "data": {
      "text/plain": [
       "0.828978622327791"
      ]
     },
     "execution_count": 56,
     "metadata": {},
     "output_type": "execute_result"
    }
   ],
   "source": [
    "search_logreg.best_score_"
   ]
  },
  {
   "cell_type": "code",
   "execution_count": 57,
   "metadata": {},
   "outputs": [
    {
     "name": "stderr",
     "output_type": "stream",
     "text": [
      "c:\\Users\\dolun\\Desktop\\bachelorproef\\poc\\xgvenv\\lib\\site-packages\\soccer_xg\\metrics.py:132: FutureWarning: Support for multi-dimensional indexing (e.g. `obj[:, None]`) is deprecated and will be removed in a future version.  Convert to a numpy array before indexing instead.\n",
      "  (y_pred[y_true])[:, np.newaxis]\n",
      "c:\\Users\\dolun\\Desktop\\bachelorproef\\poc\\xgvenv\\lib\\site-packages\\soccer_xg\\metrics.py:135: FutureWarning: Support for multi-dimensional indexing (e.g. `obj[:, None]`) is deprecated and will be removed in a future version.  Convert to a numpy array before indexing instead.\n",
      "  y_pred[:, np.newaxis]\n",
      "c:\\Users\\dolun\\Desktop\\bachelorproef\\poc\\xgvenv\\lib\\site-packages\\soccer_xg\\metrics.py:152: RuntimeWarning: invalid value encountered in divide\n",
      "  predicted_pos_percents = np.nan_to_num(number_pos / number_total, 1)\n",
      "c:\\Users\\dolun\\Desktop\\bachelorproef\\poc\\xgvenv\\lib\\site-packages\\soccer_xg\\visualisation.py:135: UserWarning: No artists with labels found to put in legend.  Note that artists whose label start with an underscore are ignored when legend() is called with no argument.\n",
      "  plt.gca().legend()\n",
      "c:\\Users\\dolun\\Desktop\\bachelorproef\\poc\\xgvenv\\lib\\site-packages\\soccer_xg\\metrics.py:132: FutureWarning: Support for multi-dimensional indexing (e.g. `obj[:, None]`) is deprecated and will be removed in a future version.  Convert to a numpy array before indexing instead.\n",
      "  (y_pred[y_true])[:, np.newaxis]\n",
      "c:\\Users\\dolun\\Desktop\\bachelorproef\\poc\\xgvenv\\lib\\site-packages\\soccer_xg\\metrics.py:135: FutureWarning: Support for multi-dimensional indexing (e.g. `obj[:, None]`) is deprecated and will be removed in a future version.  Convert to a numpy array before indexing instead.\n",
      "  y_pred[:, np.newaxis]\n",
      "c:\\Users\\dolun\\Desktop\\bachelorproef\\poc\\xgvenv\\lib\\site-packages\\soccer_xg\\metrics.py:152: RuntimeWarning: invalid value encountered in divide\n",
      "  predicted_pos_percents = np.nan_to_num(number_pos / number_total, 1)\n"
     ]
    },
    {
     "name": "stdout",
     "output_type": "stream",
     "text": [
      "{'max_dev': 99.0, 'residual_area': 2261.030338562082, 'roc': 0.7406461254750797, 'brier': 0.24432807925042915, 'ece': 0.3872903271370195, 'ace': 0.35026275558542574, 'fig': <Figure size 720x360 with 3 Axes>}\n"
     ]
    },
    {
     "data": {
      "image/png": "[encoded data removed]",
      "text/plain": [
       "<Figure size 720x360 with 3 Axes>"
      ]
     },
     "metadata": {
      "needs_background": "light"
     },
     "output_type": "display_data"
    }
   ],
   "source": [
    "model = xg.OpenplayXGModel()\n",
    "model.model = search_logreg.best_estimator_\n",
    "model._training_seasons = [\"1718\"]\n",
    "model._fitted = True\n",
    "print(model.validate(data_test, validation_seasons=[\"1718\"]))\n",
    "#model.save_model(f'{provider}_openplay_logreg_basic')"
   ]
  },
  {
   "cell_type": "code",
   "execution_count": 58,
   "metadata": {},
   "outputs": [
    {
     "name": "stdout",
     "output_type": "stream",
     "text": [
      "Selected Columns: ['type_id_a0', 'type_id_a1', 'type_id_a2', 'bodypart_id_a0', 'bodypart_id_a1', 'bodypart_id_a2', 'result_id_a1', 'result_id_a2', 'caley_zone_a0', 'caley_zone_a1', 'caley_zone_a2', 'angle_zone_a0', 'angle_zone_a1', 'angle_zone_a2']\n",
      "Original NUM columns: ['start_x_a0', 'start_y_a0', 'start_x_a1', 'start_y_a1', 'start_x_a2', 'start_y_a2', 'end_x_a1', 'end_y_a1', 'end_x_a2', 'end_y_a2', 'dx_a1', 'dy_a1', 'movement_a1', 'dx_a2', 'dy_a2', 'movement_a2', 'dx_a01', 'dy_a01', 'mov_a01', 'dx_a02', 'dy_a02', 'mov_a02', 'start_dist_to_goal_a0', 'start_angle_to_goal_a0', 'start_dist_to_goal_a1', 'start_angle_to_goal_a1', 'start_dist_to_goal_a2', 'start_angle_to_goal_a2', 'end_dist_to_goal_a1', 'end_angle_to_goal_a1', 'end_dist_to_goal_a2', 'end_angle_to_goal_a2', 'time_delta_1', 'time_delta_2', 'speedx_a01', 'speedy_a01', 'speed_a01', 'speedx_a02', 'speedy_a02', 'speed_a02', 'shot_angle_a0', 'shot_angle_a1', 'shot_angle_a2']\n",
      "Original CAT columns: ['type_id_a0', 'type_id_a1', 'type_id_a2', 'bodypart_id_a0', 'bodypart_id_a1', 'bodypart_id_a2', 'result_id_a1', 'result_id_a2', 'caley_zone_a0', 'caley_zone_a1', 'caley_zone_a2', 'angle_zone_a0', 'angle_zone_a1', 'angle_zone_a2']\n"
     ]
    }
   ],
   "source": [
    "preprocessing = model.model.named_steps['preprocessing']\n",
    "\n",
    "columns_selector = preprocessing.transformer_list[0][1].named_steps['columnsselector']\n",
    "\n",
    "selected_columns = columns_selector.columns\n",
    "print(\"Selected Columns:\", selected_columns)\n",
    "\n",
    "print(\"Original NUM columns:\", NUM)\n",
    "print(\"Original CAT columns:\", CAT)"
   ]
  },
  {
   "cell_type": "code",
   "execution_count": 59,
   "metadata": {},
   "outputs": [],
   "source": [
    "#model = xg.XGModel.load_model(f'{provider}_openplay_logreg_basic')\n",
    "\n",
    "(pd.DataFrame(\n",
    "    data={'importance': model.model.named_steps['clf'].coef_[0]},index=top_features)\n",
    "    .sort_values(by='importance').to_csv(\"feature_importance/feature_importance_CNN_test_5_recall.csv\")) #"
   ]
  }
 ],
 "metadata": {
  "kernelspec": {
   "display_name": "xgvenv",
   "language": "python",
   "name": "python3"
  },
  "language_info": {
   "codemirror_mode": {
    "name": "ipython",
    "version": 3
   },
   "file_extension": ".py",
   "mimetype": "text/x-python",
   "name": "python",
   "nbconvert_exporter": "python",
   "pygments_lexer": "ipython3",
   "version": "3.10.11"
  }
 },
 "nbformat": 4,
 "nbformat_minor": 2
}
