{
 "cells": [
  {
   "cell_type": "markdown",
   "metadata": {},
   "source": [
    "## Import"
   ]
  },
  {
   "cell_type": "code",
   "execution_count": 84,
   "metadata": {},
   "outputs": [],
   "source": [
    "import pandas as pd\n",
    "import numpy as np\n",
    "import itertools\n",
    "import matplotlib.pyplot as plt"
   ]
  },
  {
   "cell_type": "code",
   "execution_count": 85,
   "metadata": {},
   "outputs": [],
   "source": [
    "%reload_ext autoreload\n",
    "%autoreload 2\n",
    "from soccer_xg.api import DataApi\n",
    "import soccer_xg.xg as xg\n",
    "from soccer_xg.utils import sample_temporal"
   ]
  },
  {
   "cell_type": "markdown",
   "metadata": {},
   "source": [
    "## Config"
   ]
  },
  {
   "cell_type": "code",
   "execution_count": 86,
   "metadata": {},
   "outputs": [],
   "source": [
    "# dataset\n",
    "dir_data = \"../data\"\n",
    "provider = 'wyscout_opensource'\n",
    "leagues = ['ENG', 'ESP', 'ITA', 'GER', 'FRA']\n",
    "seasons = ['1718']\n",
    "\n",
    "# features\n",
    "store_features = f'../data/{provider}/features.h5'"
   ]
  },
  {
   "cell_type": "markdown",
   "metadata": {},
   "source": [
    "## Pre processing"
   ]
  },
  {
   "cell_type": "markdown",
   "metadata": {},
   "source": [
    "### Load Data"
   ]
  },
  {
   "cell_type": "code",
   "execution_count": 87,
   "metadata": {},
   "outputs": [
    {
     "name": "stderr",
     "output_type": "stream",
     "text": [
      "INFO:soccer_xg.api:Loading datasets\n"
     ]
    }
   ],
   "source": [
    "api = DataApi([f\"{dir_data}/{provider}/spadl-{provider}-{l}-{s}.h5\" \n",
    "        for (l,s) in itertools.product(leagues, seasons)])"
   ]
  },
  {
   "cell_type": "markdown",
   "metadata": {},
   "source": [
    "### Load Features"
   ]
  },
  {
   "cell_type": "code",
   "execution_count": 88,
   "metadata": {},
   "outputs": [
    {
     "data": {
      "text/html": [
       "<div>\n",
       "<style scoped>\n",
       "    .dataframe tbody tr th:only-of-type {\n",
       "        vertical-align: middle;\n",
       "    }\n",
       "\n",
       "    .dataframe tbody tr th {\n",
       "        vertical-align: top;\n",
       "    }\n",
       "\n",
       "    .dataframe thead th {\n",
       "        text-align: right;\n",
       "    }\n",
       "</style>\n",
       "<table border=\"1\" class=\"dataframe\">\n",
       "  <thead>\n",
       "    <tr style=\"text-align: right;\">\n",
       "      <th></th>\n",
       "      <th></th>\n",
       "      <th>type_id_a0</th>\n",
       "      <th>type_id_a1</th>\n",
       "      <th>type_id_a2</th>\n",
       "      <th>bodypart_id_a0</th>\n",
       "      <th>bodypart_id_a1</th>\n",
       "      <th>bodypart_id_a2</th>\n",
       "      <th>result_id_a1</th>\n",
       "      <th>result_id_a2</th>\n",
       "      <th>start_x_a0</th>\n",
       "      <th>start_y_a0</th>\n",
       "      <th>...</th>\n",
       "      <th>speed_a02</th>\n",
       "      <th>shot_angle_a0</th>\n",
       "      <th>shot_angle_a1</th>\n",
       "      <th>shot_angle_a2</th>\n",
       "      <th>caley_zone_a0</th>\n",
       "      <th>caley_zone_a1</th>\n",
       "      <th>caley_zone_a2</th>\n",
       "      <th>angle_zone_a0</th>\n",
       "      <th>angle_zone_a1</th>\n",
       "      <th>angle_zone_a2</th>\n",
       "    </tr>\n",
       "    <tr>\n",
       "      <th>game_id</th>\n",
       "      <th>action_id</th>\n",
       "      <th></th>\n",
       "      <th></th>\n",
       "      <th></th>\n",
       "      <th></th>\n",
       "      <th></th>\n",
       "      <th></th>\n",
       "      <th></th>\n",
       "      <th></th>\n",
       "      <th></th>\n",
       "      <th></th>\n",
       "      <th></th>\n",
       "      <th></th>\n",
       "      <th></th>\n",
       "      <th></th>\n",
       "      <th></th>\n",
       "      <th></th>\n",
       "      <th></th>\n",
       "      <th></th>\n",
       "      <th></th>\n",
       "      <th></th>\n",
       "      <th></th>\n",
       "    </tr>\n",
       "  </thead>\n",
       "  <tbody>\n",
       "    <tr>\n",
       "      <th rowspan=\"5\" valign=\"top\">2500098</th>\n",
       "      <th>17</th>\n",
       "      <td>shot</td>\n",
       "      <td>dribble</td>\n",
       "      <td>cross</td>\n",
       "      <td>foot</td>\n",
       "      <td>foot</td>\n",
       "      <td>foot</td>\n",
       "      <td>success</td>\n",
       "      <td>success</td>\n",
       "      <td>99.75</td>\n",
       "      <td>26.52</td>\n",
       "      <td>...</td>\n",
       "      <td>1.319750</td>\n",
       "      <td>0.499778</td>\n",
       "      <td>0.483780</td>\n",
       "      <td>0.065500</td>\n",
       "      <td>2</td>\n",
       "      <td>3</td>\n",
       "      <td>8</td>\n",
       "      <td>9</td>\n",
       "      <td>12</td>\n",
       "      <td>18</td>\n",
       "    </tr>\n",
       "    <tr>\n",
       "      <th>40</th>\n",
       "      <td>shot</td>\n",
       "      <td>corner_crossed</td>\n",
       "      <td>pass</td>\n",
       "      <td>foot</td>\n",
       "      <td>foot</td>\n",
       "      <td>foot</td>\n",
       "      <td>success</td>\n",
       "      <td>fail</td>\n",
       "      <td>91.35</td>\n",
       "      <td>35.36</td>\n",
       "      <td>...</td>\n",
       "      <td>4.249364</td>\n",
       "      <td>0.517985</td>\n",
       "      <td>0.000000</td>\n",
       "      <td>0.363334</td>\n",
       "      <td>3</td>\n",
       "      <td>8</td>\n",
       "      <td>4</td>\n",
       "      <td>12</td>\n",
       "      <td>21</td>\n",
       "      <td>12</td>\n",
       "    </tr>\n",
       "    <tr>\n",
       "      <th>77</th>\n",
       "      <td>shot</td>\n",
       "      <td>clearance</td>\n",
       "      <td>cross</td>\n",
       "      <td>foot</td>\n",
       "      <td>foot</td>\n",
       "      <td>foot</td>\n",
       "      <td>fail</td>\n",
       "      <td>fail</td>\n",
       "      <td>75.60</td>\n",
       "      <td>29.92</td>\n",
       "      <td>...</td>\n",
       "      <td>5.874066</td>\n",
       "      <td>0.242481</td>\n",
       "      <td>0.491555</td>\n",
       "      <td>0.043863</td>\n",
       "      <td>6</td>\n",
       "      <td>3</td>\n",
       "      <td>0</td>\n",
       "      <td>18</td>\n",
       "      <td>12</td>\n",
       "      <td>18</td>\n",
       "    </tr>\n",
       "    <tr>\n",
       "      <th>140</th>\n",
       "      <td>shot</td>\n",
       "      <td>cross</td>\n",
       "      <td>dribble</td>\n",
       "      <td>foot</td>\n",
       "      <td>foot</td>\n",
       "      <td>foot</td>\n",
       "      <td>success</td>\n",
       "      <td>success</td>\n",
       "      <td>92.40</td>\n",
       "      <td>43.52</td>\n",
       "      <td>...</td>\n",
       "      <td>2.061543</td>\n",
       "      <td>0.371538</td>\n",
       "      <td>0.134860</td>\n",
       "      <td>0.167545</td>\n",
       "      <td>4</td>\n",
       "      <td>5</td>\n",
       "      <td>0</td>\n",
       "      <td>12</td>\n",
       "      <td>15</td>\n",
       "      <td>18</td>\n",
       "    </tr>\n",
       "    <tr>\n",
       "      <th>145</th>\n",
       "      <td>shot</td>\n",
       "      <td>pass</td>\n",
       "      <td>pass</td>\n",
       "      <td>foot</td>\n",
       "      <td>foot</td>\n",
       "      <td>foot</td>\n",
       "      <td>success</td>\n",
       "      <td>success</td>\n",
       "      <td>99.75</td>\n",
       "      <td>37.40</td>\n",
       "      <td>...</td>\n",
       "      <td>1.289870</td>\n",
       "      <td>0.978291</td>\n",
       "      <td>0.654611</td>\n",
       "      <td>0.320841</td>\n",
       "      <td>1</td>\n",
       "      <td>3</td>\n",
       "      <td>4</td>\n",
       "      <td>6</td>\n",
       "      <td>9</td>\n",
       "      <td>15</td>\n",
       "    </tr>\n",
       "  </tbody>\n",
       "</table>\n",
       "<p>5 rows × 59 columns</p>\n",
       "</div>"
      ],
      "text/plain": [
       "                  type_id_a0      type_id_a1 type_id_a2 bodypart_id_a0  \\\n",
       "game_id action_id                                                        \n",
       "2500098 17              shot         dribble      cross           foot   \n",
       "        40              shot  corner_crossed       pass           foot   \n",
       "        77              shot       clearance      cross           foot   \n",
       "        140             shot           cross    dribble           foot   \n",
       "        145             shot            pass       pass           foot   \n",
       "\n",
       "                  bodypart_id_a1 bodypart_id_a2 result_id_a1 result_id_a2  \\\n",
       "game_id action_id                                                           \n",
       "2500098 17                  foot           foot      success      success   \n",
       "        40                  foot           foot      success         fail   \n",
       "        77                  foot           foot         fail         fail   \n",
       "        140                 foot           foot      success      success   \n",
       "        145                 foot           foot      success      success   \n",
       "\n",
       "                   start_x_a0  start_y_a0  ...  speed_a02  shot_angle_a0  \\\n",
       "game_id action_id                          ...                             \n",
       "2500098 17              99.75       26.52  ...   1.319750       0.499778   \n",
       "        40              91.35       35.36  ...   4.249364       0.517985   \n",
       "        77              75.60       29.92  ...   5.874066       0.242481   \n",
       "        140             92.40       43.52  ...   2.061543       0.371538   \n",
       "        145             99.75       37.40  ...   1.289870       0.978291   \n",
       "\n",
       "                   shot_angle_a1  shot_angle_a2  caley_zone_a0  caley_zone_a1  \\\n",
       "game_id action_id                                                               \n",
       "2500098 17              0.483780       0.065500              2              3   \n",
       "        40              0.000000       0.363334              3              8   \n",
       "        77              0.491555       0.043863              6              3   \n",
       "        140             0.134860       0.167545              4              5   \n",
       "        145             0.654611       0.320841              1              3   \n",
       "\n",
       "                   caley_zone_a2  angle_zone_a0  angle_zone_a1  angle_zone_a2  \n",
       "game_id action_id                                                              \n",
       "2500098 17                     8              9             12             18  \n",
       "        40                     4             12             21             12  \n",
       "        77                     0             18             12             18  \n",
       "        140                    0             12             15             18  \n",
       "        145                    4              6              9             15  \n",
       "\n",
       "[5 rows x 59 columns]"
      ]
     },
     "metadata": {},
     "output_type": "display_data"
    },
    {
     "data": {
      "text/html": [
       "<div>\n",
       "<style scoped>\n",
       "    .dataframe tbody tr th:only-of-type {\n",
       "        vertical-align: middle;\n",
       "    }\n",
       "\n",
       "    .dataframe tbody tr th {\n",
       "        vertical-align: top;\n",
       "    }\n",
       "\n",
       "    .dataframe thead th {\n",
       "        text-align: right;\n",
       "    }\n",
       "</style>\n",
       "<table border=\"1\" class=\"dataframe\">\n",
       "  <thead>\n",
       "    <tr style=\"text-align: right;\">\n",
       "      <th></th>\n",
       "      <th></th>\n",
       "      <th>goal</th>\n",
       "    </tr>\n",
       "    <tr>\n",
       "      <th>game_id</th>\n",
       "      <th>action_id</th>\n",
       "      <th></th>\n",
       "    </tr>\n",
       "  </thead>\n",
       "  <tbody>\n",
       "    <tr>\n",
       "      <th rowspan=\"5\" valign=\"top\">2500098</th>\n",
       "      <th>17</th>\n",
       "      <td>False</td>\n",
       "    </tr>\n",
       "    <tr>\n",
       "      <th>40</th>\n",
       "      <td>False</td>\n",
       "    </tr>\n",
       "    <tr>\n",
       "      <th>77</th>\n",
       "      <td>False</td>\n",
       "    </tr>\n",
       "    <tr>\n",
       "      <th>140</th>\n",
       "      <td>False</td>\n",
       "    </tr>\n",
       "    <tr>\n",
       "      <th>145</th>\n",
       "      <td>False</td>\n",
       "    </tr>\n",
       "  </tbody>\n",
       "</table>\n",
       "</div>"
      ],
      "text/plain": [
       "                    goal\n",
       "game_id action_id       \n",
       "2500098 17         False\n",
       "        40         False\n",
       "        77         False\n",
       "        140        False\n",
       "        145        False"
      ]
     },
     "metadata": {},
     "output_type": "display_data"
    }
   ],
   "source": [
    "features = []\n",
    "labels = []\n",
    "# load features and labels for each season\n",
    "for (l,s) in itertools.product(leagues, seasons):\n",
    "    try:\n",
    "        features.append(pd.read_hdf(store_features, key=f'{l}/{s}/features'))\n",
    "        labels.append(pd.read_hdf(store_features, key=f'{l}/{s}/labels'))\n",
    "    except KeyError:\n",
    "        print(f\"Key not found for league {l} and season {s}\")\n",
    "features = pd.concat(features)\n",
    "labels = pd.concat(labels)\n",
    "# filter open play shots\n",
    "open_play_idx = features[features.type_id_a0 == 'shot'].index\n",
    "features = features.loc[open_play_idx]\n",
    "labels = labels.loc[open_play_idx]\n",
    "\n",
    "display(features.head())\n",
    "display(labels.to_frame().head())"
   ]
  },
  {
   "cell_type": "code",
   "execution_count": 89,
   "metadata": {},
   "outputs": [
    {
     "data": {
      "text/plain": [
       "type_id_a0                category\n",
       "type_id_a1                category\n",
       "type_id_a2                category\n",
       "bodypart_id_a0            category\n",
       "bodypart_id_a1            category\n",
       "bodypart_id_a2            category\n",
       "result_id_a1              category\n",
       "result_id_a2              category\n",
       "start_x_a0                 float64\n",
       "start_y_a0                 float64\n",
       "start_x_a1                 float64\n",
       "start_y_a1                 float64\n",
       "start_x_a2                 float64\n",
       "start_y_a2                 float64\n",
       "end_x_a1                   float64\n",
       "end_y_a1                   float64\n",
       "end_x_a2                   float64\n",
       "end_y_a2                   float64\n",
       "dx_a1                      float64\n",
       "dy_a1                      float64\n",
       "movement_a1                float64\n",
       "dx_a2                      float64\n",
       "dy_a2                      float64\n",
       "movement_a2                float64\n",
       "dx_a01                     float64\n",
       "dy_a01                     float64\n",
       "mov_a01                    float64\n",
       "dx_a02                     float64\n",
       "dy_a02                     float64\n",
       "mov_a02                    float64\n",
       "start_dist_to_goal_a0      float64\n",
       "start_angle_to_goal_a0     float64\n",
       "start_dist_to_goal_a1      float64\n",
       "start_angle_to_goal_a1     float64\n",
       "start_dist_to_goal_a2      float64\n",
       "start_angle_to_goal_a2     float64\n",
       "end_dist_to_goal_a1        float64\n",
       "end_angle_to_goal_a1       float64\n",
       "end_dist_to_goal_a2        float64\n",
       "end_angle_to_goal_a2       float64\n",
       "team_1                        bool\n",
       "team_2                        bool\n",
       "time_delta_1               float64\n",
       "time_delta_2               float64\n",
       "speedx_a01                 float64\n",
       "speedy_a01                 float64\n",
       "speed_a01                  float64\n",
       "speedx_a02                 float64\n",
       "speedy_a02                 float64\n",
       "speed_a02                  float64\n",
       "shot_angle_a0              float64\n",
       "shot_angle_a1              float64\n",
       "shot_angle_a2              float64\n",
       "caley_zone_a0             category\n",
       "caley_zone_a1             category\n",
       "caley_zone_a2             category\n",
       "angle_zone_a0             category\n",
       "angle_zone_a1             category\n",
       "angle_zone_a2             category\n",
       "dtype: object"
      ]
     },
     "execution_count": 89,
     "metadata": {},
     "output_type": "execute_result"
    }
   ],
   "source": [
    "features.dtypes"
   ]
  },
  {
   "cell_type": "markdown",
   "metadata": {},
   "source": [
    "### Split train and test "
   ]
  },
  {
   "cell_type": "code",
   "execution_count": 90,
   "metadata": {},
   "outputs": [],
   "source": [
    "from sklearn.feature_selection import SelectKBest, chi2\n",
    "from sklearn.model_selection import train_test_split\n",
    "from sklearn.linear_model import LogisticRegression\n",
    "from sklearn.metrics import accuracy_score"
   ]
  },
  {
   "cell_type": "code",
   "execution_count": 91,
   "metadata": {},
   "outputs": [
    {
     "name": "stdout",
     "output_type": "stream",
     "text": [
      "Numerical features: ['start_x_a0', 'start_y_a0', 'start_x_a1', 'start_y_a1', 'start_x_a2', 'start_y_a2', 'end_x_a1', 'end_y_a1', 'end_x_a2', 'end_y_a2', 'dx_a1', 'dy_a1', 'movement_a1', 'dx_a2', 'dy_a2', 'movement_a2', 'dx_a01', 'dy_a01', 'mov_a01', 'dx_a02', 'dy_a02', 'mov_a02', 'start_dist_to_goal_a0', 'start_angle_to_goal_a0', 'start_dist_to_goal_a1', 'start_angle_to_goal_a1', 'start_dist_to_goal_a2', 'start_angle_to_goal_a2', 'end_dist_to_goal_a1', 'end_angle_to_goal_a1', 'end_dist_to_goal_a2', 'end_angle_to_goal_a2', 'time_delta_1', 'time_delta_2', 'speedx_a01', 'speedy_a01', 'speed_a01', 'speedx_a02', 'speedy_a02', 'speed_a02', 'shot_angle_a0', 'shot_angle_a1', 'shot_angle_a2']\n",
      "Categorical features: ['type_id_a0', 'type_id_a1', 'type_id_a2', 'bodypart_id_a0', 'bodypart_id_a1', 'bodypart_id_a2', 'result_id_a1', 'result_id_a2', 'caley_zone_a0', 'caley_zone_a1', 'caley_zone_a2', 'angle_zone_a0', 'angle_zone_a1', 'angle_zone_a2']\n"
     ]
    }
   ],
   "source": [
    "# Get all numerical features\n",
    "NUM = features.select_dtypes(include=['float64']).columns.tolist()\n",
    "\n",
    "# Get all categorical features\n",
    "CAT = features.select_dtypes(include=['object', 'category']).columns.tolist()\n",
    "\n",
    "# Now you have arrays of all numerical and categorical features\n",
    "print(\"Numerical features:\", NUM)\n",
    "print(\"Categorical features:\", CAT)"
   ]
  },
  {
   "cell_type": "code",
   "execution_count": 92,
   "metadata": {},
   "outputs": [
    {
     "name": "stderr",
     "output_type": "stream",
     "text": [
      "INFO:soccer_xg.api:Loading `games` data\n"
     ]
    }
   ],
   "source": [
    "games_train, games_val, games_test = sample_temporal(api, size_val=0.2, size_test=0.3)\n",
    "\n",
    "X_train, y_train = features.loc[games_train], labels.loc[games_train]\n",
    "data_train = X_train.assign(goal=y_train)\n",
    "X_val, y_val = features.loc[games_val], labels.loc[games_val]\n",
    "data_val = X_train.assign(goal=y_val)\n",
    "X_test, y_test = features.loc[games_test], labels.loc[games_test]\n",
    "data_test = X_test.assign(goal=y_test)"
   ]
  },
  {
   "cell_type": "code",
   "execution_count": 93,
   "metadata": {},
   "outputs": [
    {
     "name": "stdout",
     "output_type": "stream",
     "text": [
      "dataset = train\n",
      "shape = (20652, 59)\n",
      "--------------------\n",
      "dataset = val\n",
      "shape = (7781, 59)\n",
      "--------------------\n",
      "dataset = test\n",
      "shape = (11965, 59)\n",
      "--------------------\n"
     ]
    }
   ],
   "source": [
    "for name, X in [(\"train\", X_train), (\"val\", X_val), (\"test\", X_test)]:\n",
    "    print(\"dataset =\", name)\n",
    "    print(\"shape =\", X.shape)\n",
    "    print(\"-\" * 20)"
   ]
  },
  {
   "cell_type": "markdown",
   "metadata": {},
   "source": [
    "## Learning "
   ]
  },
  {
   "cell_type": "markdown",
   "metadata": {},
   "source": [
    "### Logistic regression"
   ]
  },
  {
   "cell_type": "code",
   "execution_count": 94,
   "metadata": {},
   "outputs": [],
   "source": [
    "%autoreload 2\n",
    "from soccer_xg.ml import logreg"
   ]
  },
  {
   "cell_type": "code",
   "execution_count": 95,
   "metadata": {},
   "outputs": [],
   "source": [
    "import numpy as np\n",
    "from sklearn.linear_model import LogisticRegression\n",
    "from sklearn.pipeline import Pipeline\n",
    "from sklearn.model_selection import RandomizedSearchCV\n",
    "from sklearn.feature_selection import SelectKBest, chi2\n",
    "import logging\n",
    "\n",
    "import category_encoders as ce\n",
    "from sklearn.impute import SimpleImputer\n",
    "from sklearn.pipeline import make_pipeline, make_union\n",
    "from sklearn.preprocessing import MinMaxScaler\n",
    "\n",
    "import pandas as pd\n",
    "import scipy.sparse as sp\n",
    "from scipy import stats\n",
    "from sklearn import clone\n",
    "from sklearn.base import BaseEstimator, TransformerMixin\n",
    "\n",
    "\n",
    "\n",
    "class ColumnsSelector(BaseEstimator, TransformerMixin):\n",
    "    def __init__(self, columns):\n",
    "        assert isinstance(columns, list)\n",
    "        self.columns = columns\n",
    "\n",
    "    def fit(self, X, y=None):\n",
    "        return self\n",
    "\n",
    "    def transform(self, X):\n",
    "        return X[self.columns]\n",
    "    \n",
    "\n",
    "class AsString(BaseEstimator, TransformerMixin):\n",
    "    def fit(self, x, y=None):\n",
    "        return self\n",
    "\n",
    "    def transform(self, x):\n",
    "        return x.astype(str)\n",
    "def simple_proc_for_linear_algoritms(numeric_features, categoric_features):\n",
    "    \"\"\"\n",
    "    Create a simple preprocessing pipeline for linear algorithms\n",
    "    \"\"\"\n",
    "\n",
    "    catpipe = make_pipeline(\n",
    "        ColumnsSelector(categoric_features),\n",
    "        AsString(),\n",
    "        ce.OneHotEncoder()\n",
    "        # ColumnApplier(FillNaN('nan')),\n",
    "        # ColumnApplier(TolerantLabelEncoder())\n",
    "    )\n",
    "    numpipe = make_pipeline(\n",
    "        ColumnsSelector(numeric_features),\n",
    "        SimpleImputer(strategy='mean'),\n",
    "        #StandardScaler(),\n",
    "        MinMaxScaler() # Chi squared test\n",
    "    )\n",
    "    if numeric_features and categoric_features:\n",
    "        return make_union(catpipe, numpipe)\n",
    "    elif numeric_features:\n",
    "        return numpipe\n",
    "    elif categoric_features:\n",
    "        return catpipe\n",
    "    raise Exception('Both variable lists are empty')\n",
    "\n",
    "# Configure logging\n",
    "logging.basicConfig(level=logging.DEBUG)\n",
    "logger = logging.getLogger(__name__)\n",
    "\n",
    "class FeatureSelector:\n",
    "    def __init__(self, feature_indices):\n",
    "        self.feature_indices = feature_indices\n",
    "\n",
    "    def transform(self, X):\n",
    "        return X[:, self.feature_indices]\n",
    "\n",
    "    def fit(self, X, y=None):\n",
    "        return self  \n",
    "\n",
    "def logreg_gridsearch_model(\n",
    "    numeric_features,\n",
    "    categoric_features,\n",
    "    n_iter=100,\n",
    "    scoring='roc_auc',\n",
    "    k_best=40\n",
    "):\n",
    "    \"\"\"\n",
    "    Logistic regression pipeline with feature selection and hyperparameter tuning.\n",
    "    \"\"\"\n",
    "    param_space = {\n",
    "        'clf__C': np.logspace(-5, 5, 100),\n",
    "        'clf__class_weight': ['balanced', None],\n",
    "    }\n",
    "\n",
    "    chi2_selector = SelectKBest(score_func=chi2, k=k_best)\n",
    "\n",
    "    pipe = Pipeline(\n",
    "        [\n",
    "            ('preprocessing', simple_proc_for_linear_algoritms(\n",
    "                numeric_features, categoric_features)),\n",
    "            ('chi2_selection', chi2_selector),\n",
    "            ('clf', LogisticRegression(max_iter=10000, fit_intercept=False)),\n",
    "        ]\n",
    "    )\n",
    "\n",
    "    return RandomizedSearchCV(\n",
    "        pipe, param_space, n_iter=n_iter, scoring=scoring, cv=5\n",
    "    )"
   ]
  },
  {
   "cell_type": "code",
   "execution_count": 96,
   "metadata": {},
   "outputs": [],
   "source": [
    "search_logreg = logreg_gridsearch_model(\n",
    "    numeric_features=NUM,\n",
    "    categoric_features=CAT,\n",
    "    scoring='neg_brier_score',\n",
    "    n_iter=1000,\n",
    "    k_best=80 \n",
    ")"
   ]
  },
  {
   "cell_type": "code",
   "execution_count": 97,
   "metadata": {},
   "outputs": [
    {
     "name": "stderr",
     "output_type": "stream",
     "text": [
      "c:\\Users\\dolun\\Desktop\\bachelorproef\\poc\\xgvenv\\lib\\site-packages\\sklearn\\model_selection\\_search.py:277: UserWarning: The total space of parameters 200 is smaller than n_iter=1000. Running 200 iterations. For exhaustive searches, use GridSearchCV.\n",
      "  warnings.warn(\n"
     ]
    },
    {
     "data": {
      "text/plain": [
       "RandomizedSearchCV(cv=5, error_score=nan,\n",
       "                   estimator=Pipeline(memory=None,\n",
       "                                      steps=[('preprocessing',\n",
       "                                              FeatureUnion(n_jobs=None,\n",
       "                                                           transformer_list=[('pipeline-1',\n",
       "                                                                              Pipeline(memory=None,\n",
       "                                                                                       steps=[('columnsselector',\n",
       "                                                                                               ColumnsSelector(columns=['type_id_a0',\n",
       "                                                                                                                        'type_id_a1',\n",
       "                                                                                                                        'type_id_a2',\n",
       "                                                                                                                        'bodypart_id_a0',\n",
       "                                                                                                                        'bodypart_id_a1',\n",
       "                                                                                                                        'bodypart_id_a2',\n",
       "                                                                                                                        'result_id_a1',\n",
       "                                                                                                                        'result_id_a2',\n",
       "                                                                                                                        'caley...\n",
       "       3.05385551e+03, 3.85352859e+03, 4.86260158e+03, 6.13590727e+03,\n",
       "       7.74263683e+03, 9.77009957e+03, 1.23284674e+04, 1.55567614e+04,\n",
       "       1.96304065e+04, 2.47707636e+04, 3.12571585e+04, 3.94420606e+04,\n",
       "       4.97702356e+04, 6.28029144e+04, 7.92482898e+04, 1.00000000e+05]),\n",
       "                                        'clf__class_weight': ['balanced',\n",
       "                                                              None]},\n",
       "                   pre_dispatch='2*n_jobs', random_state=None, refit=True,\n",
       "                   return_train_score=False, scoring='neg_brier_score',\n",
       "                   verbose=0)"
      ]
     },
     "execution_count": 97,
     "metadata": {},
     "output_type": "execute_result"
    }
   ],
   "source": [
    "search_logreg.fit(X_train, y_train)"
   ]
  },
  {
   "cell_type": "code",
   "execution_count": 98,
   "metadata": {},
   "outputs": [
    {
     "data": {
      "text/plain": [
       "-0.07887378022707729"
      ]
     },
     "execution_count": 98,
     "metadata": {},
     "output_type": "execute_result"
    }
   ],
   "source": [
    "search_logreg.best_score_"
   ]
  },
  {
   "cell_type": "code",
   "execution_count": 99,
   "metadata": {},
   "outputs": [
    {
     "name": "stderr",
     "output_type": "stream",
     "text": [
      "c:\\Users\\dolun\\Desktop\\bachelorproef\\poc\\xgvenv\\lib\\site-packages\\soccer_xg\\metrics.py:132: FutureWarning: Support for multi-dimensional indexing (e.g. `obj[:, None]`) is deprecated and will be removed in a future version.  Convert to a numpy array before indexing instead.\n",
      "  (y_pred[y_true])[:, np.newaxis]\n",
      "c:\\Users\\dolun\\Desktop\\bachelorproef\\poc\\xgvenv\\lib\\site-packages\\soccer_xg\\metrics.py:135: FutureWarning: Support for multi-dimensional indexing (e.g. `obj[:, None]`) is deprecated and will be removed in a future version.  Convert to a numpy array before indexing instead.\n",
      "  y_pred[:, np.newaxis]\n",
      "c:\\Users\\dolun\\Desktop\\bachelorproef\\poc\\xgvenv\\lib\\site-packages\\soccer_xg\\visualisation.py:135: UserWarning: No artists with labels found to put in legend.  Note that artists whose label start with an underscore are ignored when legend() is called with no argument.\n",
      "  plt.gca().legend()\n",
      "c:\\Users\\dolun\\Desktop\\bachelorproef\\poc\\xgvenv\\lib\\site-packages\\soccer_xg\\metrics.py:132: FutureWarning: Support for multi-dimensional indexing (e.g. `obj[:, None]`) is deprecated and will be removed in a future version.  Convert to a numpy array before indexing instead.\n",
      "  (y_pred[y_true])[:, np.newaxis]\n",
      "c:\\Users\\dolun\\Desktop\\bachelorproef\\poc\\xgvenv\\lib\\site-packages\\soccer_xg\\metrics.py:135: FutureWarning: Support for multi-dimensional indexing (e.g. `obj[:, None]`) is deprecated and will be removed in a future version.  Convert to a numpy array before indexing instead.\n",
      "  y_pred[:, np.newaxis]\n"
     ]
    },
    {
     "name": "stdout",
     "output_type": "stream",
     "text": [
      "{'max_dev': 98.96093942513288, 'residual_area': 739.8659865509825, 'roc': 0.79157463465807, 'brier': 0.0828160185077036, 'ece': 0.005450049212619299, 'ace': 0.008715575502266617, 'fig': <Figure size 720x360 with 3 Axes>}\n"
     ]
    },
    {
     "data": {
      "image/png": "[encoded data removed]",
      "text/plain": [
       "<Figure size 720x360 with 3 Axes>"
      ]
     },
     "metadata": {
      "needs_background": "light"
     },
     "output_type": "display_data"
    }
   ],
   "source": [
    "model = xg.OpenplayXGModel()\n",
    "model.model = search_logreg.best_estimator_\n",
    "model._training_seasons = [\"1718\"]\n",
    "model._fitted = True\n",
    "print(model.validate(data_test, validation_seasons=[\"1718\"]))\n",
    "#model.save_model(f'{provider}_openplay_logreg_basic_chi_square') -0.0798722999951742"
   ]
  },
  {
   "cell_type": "code",
   "execution_count": 100,
   "metadata": {},
   "outputs": [
    {
     "data": {
      "text/plain": [
       "LogisticRegression(C=5.72236765935022, class_weight=None, dual=False,\n",
       "                   fit_intercept=False, intercept_scaling=1, l1_ratio=None,\n",
       "                   max_iter=10000, multi_class='auto', n_jobs=None,\n",
       "                   penalty='l2', random_state=None, solver='lbfgs', tol=0.0001,\n",
       "                   verbose=0, warm_start=False)"
      ]
     },
     "execution_count": 100,
     "metadata": {},
     "output_type": "execute_result"
    }
   ],
   "source": [
    "search_logreg.best_estimator_['clf']"
   ]
  },
  {
   "cell_type": "code",
   "execution_count": 101,
   "metadata": {},
   "outputs": [
    {
     "name": "stdout",
     "output_type": "stream",
     "text": [
      "144\n"
     ]
    }
   ],
   "source": [
    "index_cat = []\n",
    "for col in CAT:\n",
    "    value_counts = features[col].value_counts()\n",
    "\n",
    "    non_zero_counts = value_counts[value_counts > 1]\n",
    "\n",
    "    for i in range(len(non_zero_counts)):\n",
    "        index_cat.append(col)\n",
    "\n",
    "index_features = index_cat + NUM\n",
    "print(len(index_features))"
   ]
  },
  {
   "cell_type": "code",
   "execution_count": 102,
   "metadata": {},
   "outputs": [
    {
     "name": "stdout",
     "output_type": "stream",
     "text": [
      "Selected Columns: ['type_id_a0', 'type_id_a1', 'type_id_a2', 'bodypart_id_a0', 'bodypart_id_a1', 'bodypart_id_a2', 'result_id_a1', 'result_id_a2', 'caley_zone_a0', 'caley_zone_a1', 'caley_zone_a2', 'angle_zone_a0', 'angle_zone_a1', 'angle_zone_a2']\n"
     ]
    }
   ],
   "source": [
    "# Access the 'preprocessing' step\n",
    "preprocessing = model.model.named_steps['preprocessing']\n",
    "\n",
    "# Access the 'columnsselector' step inside the pipeline\n",
    "columns_selector = preprocessing.transformer_list[0][1].named_steps['columnsselector']\n",
    "\n",
    "# Check which columns are selected\n",
    "selected_columns = columns_selector.columns\n",
    "print(\"Selected Columns:\", selected_columns)"
   ]
  },
  {
   "cell_type": "code",
   "execution_count": 103,
   "metadata": {},
   "outputs": [
    {
     "data": {
      "text/plain": [
       "array([ 0.34316223,  0.18188456, -0.60306352,  0.58880001,  0.21270282,\n",
       "        0.01186568, -0.48981021, -1.73300737,  0.10699856,  0.1521632 ,\n",
       "        0.29837646,  0.31119162, -0.35207294, -0.1382937 , -0.40164518,\n",
       "        1.86829212, -1.11092664, -1.71562153,  0.38076871,  1.09455748,\n",
       "        0.25597449, -0.55762496, -0.5211391 , -0.55223852, -0.8632796 ,\n",
       "       -0.66475755, -0.03515618, -0.36353948,  0.36301831,  0.36816891,\n",
       "        0.09585672,  0.20461611, -0.21219124,  0.12974727,  0.11435904,\n",
       "       -0.02473918,  0.26102916,  0.20732635, -0.1162296 , -0.29976998,\n",
       "        0.03665266,  0.09563223, -0.02500965,  0.11177745,  0.39150516,\n",
       "       -1.2245242 , -0.78966205, -1.43472325, -0.87332923, -0.95103539,\n",
       "       -1.33267878, -1.50041708, -1.03565925,  0.58819608,  0.57224145,\n",
       "        0.48794518,  0.58925968,  0.44561357,  0.46669603,  0.12267497,\n",
       "        0.40569758, -0.08080561, -0.06941286, -0.02227534, -0.07755989,\n",
       "       -0.33038712,  0.40535748,  0.17994188,  2.14589675, -2.08615409,\n",
       "       -0.46667106, -5.48006954, -0.04107981, -0.23562209, -2.4719143 ,\n",
       "       -0.41932462,  0.12809131,  6.23462678,  0.44774985, -0.29344797])"
      ]
     },
     "execution_count": 103,
     "metadata": {},
     "output_type": "execute_result"
    }
   ],
   "source": [
    "model.model.named_steps['clf'].coef_[0]"
   ]
  },
  {
   "cell_type": "code",
   "execution_count": 104,
   "metadata": {},
   "outputs": [
    {
     "name": "stdout",
     "output_type": "stream",
     "text": [
      "Number of features selected by SelectKBest: [False  True False False  True  True False  True  True  True  True False\n",
      " False False  True False  True False False  True False  True  True False\n",
      " False False  True False  True  True False False False  True  True  True\n",
      "  True False  True False False False False  True False False False  True\n",
      "  True  True  True  True  True  True  True  True  True  True False  True\n",
      "  True  True  True False  True  True  True False  True  True  True  True\n",
      "  True  True  True  True  True  True  True  True  True  True False  True\n",
      "  True  True False  True  True  True  True  True False  True False  True\n",
      "  True  True  True  True  True  True False False False False False  True\n",
      " False  True False False False False False False False False False False\n",
      " False False False  True False  True  True False False  True False  True\n",
      "  True False False False False False False False False  True  True  True]\n"
     ]
    }
   ],
   "source": [
    "chi2_selector = model.model.named_steps['chi2_selection']\n",
    "selected_mask = chi2_selector.get_support()\n",
    "print(\"Number of features selected by SelectKBest:\", selected_mask)"
   ]
  },
  {
   "cell_type": "code",
   "execution_count": 105,
   "metadata": {},
   "outputs": [
    {
     "name": "stdout",
     "output_type": "stream",
     "text": [
      "Feature 2: type_id_a1\n",
      "Feature 5: type_id_a1\n",
      "Feature 6: type_id_a1\n",
      "Feature 8: type_id_a1\n",
      "Feature 9: type_id_a1\n",
      "Feature 10: type_id_a1\n",
      "Feature 11: type_id_a1\n",
      "Feature 15: type_id_a1\n",
      "Feature 17: type_id_a2\n",
      "Feature 20: type_id_a2\n",
      "Feature 22: type_id_a2\n",
      "Feature 23: type_id_a2\n",
      "Feature 27: type_id_a2\n",
      "Feature 29: type_id_a2\n",
      "Feature 30: type_id_a2\n",
      "Feature 34: type_id_a2\n",
      "Feature 35: bodypart_id_a0\n",
      "Feature 36: bodypart_id_a0\n",
      "Feature 37: bodypart_id_a1\n",
      "Feature 39: bodypart_id_a1\n",
      "Feature 44: result_id_a1\n",
      "Feature 48: caley_zone_a0\n",
      "Feature 49: caley_zone_a0\n",
      "Feature 50: caley_zone_a0\n",
      "Feature 51: caley_zone_a0\n",
      "Feature 52: caley_zone_a0\n",
      "Feature 53: caley_zone_a0\n",
      "Feature 54: caley_zone_a0\n",
      "Feature 55: caley_zone_a0\n",
      "Feature 56: caley_zone_a0\n",
      "Feature 57: caley_zone_a1\n",
      "Feature 58: caley_zone_a1\n",
      "Feature 60: caley_zone_a1\n",
      "Feature 61: caley_zone_a1\n",
      "Feature 62: caley_zone_a1\n",
      "Feature 63: caley_zone_a1\n",
      "Feature 65: caley_zone_a1\n",
      "Feature 66: caley_zone_a2\n",
      "Feature 67: caley_zone_a2\n",
      "Feature 69: caley_zone_a2\n",
      "Feature 70: caley_zone_a2\n",
      "Feature 71: caley_zone_a2\n",
      "Feature 72: caley_zone_a2\n",
      "Feature 73: caley_zone_a2\n",
      "Feature 74: caley_zone_a2\n",
      "Feature 75: angle_zone_a0\n",
      "Feature 76: angle_zone_a0\n",
      "Feature 77: angle_zone_a0\n",
      "Feature 78: angle_zone_a0\n",
      "Feature 79: angle_zone_a0\n",
      "Feature 80: angle_zone_a0\n",
      "Feature 81: angle_zone_a0\n",
      "Feature 82: angle_zone_a0\n",
      "Feature 84: angle_zone_a1\n",
      "Feature 85: angle_zone_a1\n",
      "Feature 86: angle_zone_a1\n",
      "Feature 88: angle_zone_a1\n",
      "Feature 89: angle_zone_a1\n",
      "Feature 90: angle_zone_a1\n",
      "Feature 91: angle_zone_a1\n",
      "Feature 92: angle_zone_a1\n",
      "Feature 94: angle_zone_a2\n",
      "Feature 96: angle_zone_a2\n",
      "Feature 97: angle_zone_a2\n",
      "Feature 98: angle_zone_a2\n",
      "Feature 99: angle_zone_a2\n",
      "Feature 100: angle_zone_a2\n",
      "Feature 101: angle_zone_a2\n",
      "Feature 102: start_x_a0\n",
      "Feature 108: end_x_a1\n",
      "Feature 110: end_x_a2\n",
      "Feature 124: start_dist_to_goal_a0\n",
      "Feature 126: start_dist_to_goal_a1\n",
      "Feature 127: start_angle_to_goal_a1\n",
      "Feature 130: end_dist_to_goal_a1\n",
      "Feature 132: end_dist_to_goal_a2\n",
      "Feature 133: end_angle_to_goal_a2\n",
      "Feature 142: shot_angle_a0\n",
      "Feature 143: shot_angle_a1\n",
      "Feature 144: shot_angle_a2\n"
     ]
    }
   ],
   "source": [
    "k = 0 \n",
    "feat = []\n",
    "for i in selected_mask:\n",
    "    k += 1\n",
    "    if i:\n",
    "        print(f\"Feature {k}: {index_features[k - 1]}\")\n",
    "        feat.append(index_features[k - 1])"
   ]
  },
  {
   "cell_type": "code",
   "execution_count": 106,
   "metadata": {},
   "outputs": [
    {
     "data": {
      "text/html": [
       "<div>\n",
       "<style scoped>\n",
       "    .dataframe tbody tr th:only-of-type {\n",
       "        vertical-align: middle;\n",
       "    }\n",
       "\n",
       "    .dataframe tbody tr th {\n",
       "        vertical-align: top;\n",
       "    }\n",
       "\n",
       "    .dataframe thead th {\n",
       "        text-align: right;\n",
       "    }\n",
       "</style>\n",
       "<table border=\"1\" class=\"dataframe\">\n",
       "  <thead>\n",
       "    <tr style=\"text-align: right;\">\n",
       "      <th></th>\n",
       "      <th>importance</th>\n",
       "    </tr>\n",
       "  </thead>\n",
       "  <tbody>\n",
       "    <tr>\n",
       "      <th>start_dist_to_goal_a0</th>\n",
       "      <td>-5.480070</td>\n",
       "    </tr>\n",
       "    <tr>\n",
       "      <th>end_dist_to_goal_a1</th>\n",
       "      <td>-2.471914</td>\n",
       "    </tr>\n",
       "    <tr>\n",
       "      <th>end_x_a1</th>\n",
       "      <td>-2.086154</td>\n",
       "    </tr>\n",
       "    <tr>\n",
       "      <th>type_id_a1</th>\n",
       "      <td>-1.733007</td>\n",
       "    </tr>\n",
       "    <tr>\n",
       "      <th>bodypart_id_a0</th>\n",
       "      <td>-1.715622</td>\n",
       "    </tr>\n",
       "    <tr>\n",
       "      <th>...</th>\n",
       "      <td>...</td>\n",
       "    </tr>\n",
       "    <tr>\n",
       "      <th>angle_zone_a1</th>\n",
       "      <td>0.589260</td>\n",
       "    </tr>\n",
       "    <tr>\n",
       "      <th>bodypart_id_a1</th>\n",
       "      <td>1.094557</td>\n",
       "    </tr>\n",
       "    <tr>\n",
       "      <th>type_id_a2</th>\n",
       "      <td>1.868292</td>\n",
       "    </tr>\n",
       "    <tr>\n",
       "      <th>start_x_a0</th>\n",
       "      <td>2.145897</td>\n",
       "    </tr>\n",
       "    <tr>\n",
       "      <th>shot_angle_a0</th>\n",
       "      <td>6.234627</td>\n",
       "    </tr>\n",
       "  </tbody>\n",
       "</table>\n",
       "<p>80 rows × 1 columns</p>\n",
       "</div>"
      ],
      "text/plain": [
       "                       importance\n",
       "start_dist_to_goal_a0   -5.480070\n",
       "end_dist_to_goal_a1     -2.471914\n",
       "end_x_a1                -2.086154\n",
       "type_id_a1              -1.733007\n",
       "bodypart_id_a0          -1.715622\n",
       "...                           ...\n",
       "angle_zone_a1            0.589260\n",
       "bodypart_id_a1           1.094557\n",
       "type_id_a2               1.868292\n",
       "start_x_a0               2.145897\n",
       "shot_angle_a0            6.234627\n",
       "\n",
       "[80 rows x 1 columns]"
      ]
     },
     "execution_count": 106,
     "metadata": {},
     "output_type": "execute_result"
    }
   ],
   "source": [
    "#model = xg.XGModel.load_model(f'{provider}_openplay_logreg_basic')\n",
    "\n",
    "\n",
    "(pd.DataFrame(\n",
    "    data={'importance': model.model.named_steps['clf'].coef_[0]},index=feat)\n",
    "    .sort_values(by='importance')) # .to_csv(\"feature_importance/feature_importance_chi_square_test_6.csv\")"
   ]
  }
 ],
 "metadata": {
  "kernelspec": {
   "display_name": "xgvenv",
   "language": "python",
   "name": "python3"
  },
  "language_info": {
   "codemirror_mode": {
    "name": "ipython",
    "version": 3
   },
   "file_extension": ".py",
   "mimetype": "text/x-python",
   "name": "python",
   "nbconvert_exporter": "python",
   "pygments_lexer": "ipython3",
   "version": "3.10.11"
  }
 },
 "nbformat": 4,
 "nbformat_minor": 2
}
