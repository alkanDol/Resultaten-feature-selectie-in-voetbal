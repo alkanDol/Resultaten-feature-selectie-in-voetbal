{
 "cells": [
  {
   "cell_type": "markdown",
   "metadata": {},
   "source": [
    "## Import"
   ]
  },
  {
   "cell_type": "code",
   "execution_count": 1,
   "metadata": {},
   "outputs": [],
   "source": [
    "import pandas as pd\n",
    "import numpy as np\n",
    "import itertools\n",
    "import matplotlib.pyplot as plt"
   ]
  },
  {
   "cell_type": "code",
   "execution_count": 2,
   "metadata": {},
   "outputs": [],
   "source": [
    "%reload_ext autoreload\n",
    "%autoreload 2\n",
    "from soccer_xg.api import DataApi\n",
    "import soccer_xg.xg as xg\n",
    "from soccer_xg.utils import sample_temporal"
   ]
  },
  {
   "cell_type": "markdown",
   "metadata": {},
   "source": [
    "## Config"
   ]
  },
  {
   "cell_type": "code",
   "execution_count": 3,
   "metadata": {},
   "outputs": [],
   "source": [
    "# dataset\n",
    "dir_data = \"../data\"\n",
    "provider = 'wyscout_opensource'\n",
    "leagues = ['ENG', 'ESP', 'ITA', 'GER', 'FRA']\n",
    "seasons = ['1718']\n",
    "\n",
    "# features\n",
    "store_features = f'../data/{provider}/features.h5'"
   ]
  },
  {
   "cell_type": "markdown",
   "metadata": {},
   "source": [
    "## Pre processing"
   ]
  },
  {
   "cell_type": "markdown",
   "metadata": {},
   "source": [
    "### Load Data"
   ]
  },
  {
   "cell_type": "code",
   "execution_count": 4,
   "metadata": {},
   "outputs": [],
   "source": [
    "api = DataApi([f\"{dir_data}/{provider}/spadl-{provider}-{l}-{s}.h5\" \n",
    "        for (l,s) in itertools.product(leagues, seasons)])"
   ]
  },
  {
   "cell_type": "markdown",
   "metadata": {},
   "source": [
    "### Load Features"
   ]
  },
  {
   "cell_type": "code",
   "execution_count": 5,
   "metadata": {},
   "outputs": [
    {
     "data": {
      "text/html": [
       "<div>\n",
       "<style scoped>\n",
       "    .dataframe tbody tr th:only-of-type {\n",
       "        vertical-align: middle;\n",
       "    }\n",
       "\n",
       "    .dataframe tbody tr th {\n",
       "        vertical-align: top;\n",
       "    }\n",
       "\n",
       "    .dataframe thead th {\n",
       "        text-align: right;\n",
       "    }\n",
       "</style>\n",
       "<table border=\"1\" class=\"dataframe\">\n",
       "  <thead>\n",
       "    <tr style=\"text-align: right;\">\n",
       "      <th></th>\n",
       "      <th></th>\n",
       "      <th>type_id_a0</th>\n",
       "      <th>type_id_a1</th>\n",
       "      <th>type_id_a2</th>\n",
       "      <th>bodypart_id_a0</th>\n",
       "      <th>bodypart_id_a1</th>\n",
       "      <th>bodypart_id_a2</th>\n",
       "      <th>result_id_a1</th>\n",
       "      <th>result_id_a2</th>\n",
       "      <th>start_x_a0</th>\n",
       "      <th>start_y_a0</th>\n",
       "      <th>...</th>\n",
       "      <th>speed_a02</th>\n",
       "      <th>shot_angle_a0</th>\n",
       "      <th>shot_angle_a1</th>\n",
       "      <th>shot_angle_a2</th>\n",
       "      <th>caley_zone_a0</th>\n",
       "      <th>caley_zone_a1</th>\n",
       "      <th>caley_zone_a2</th>\n",
       "      <th>angle_zone_a0</th>\n",
       "      <th>angle_zone_a1</th>\n",
       "      <th>angle_zone_a2</th>\n",
       "    </tr>\n",
       "    <tr>\n",
       "      <th>game_id</th>\n",
       "      <th>action_id</th>\n",
       "      <th></th>\n",
       "      <th></th>\n",
       "      <th></th>\n",
       "      <th></th>\n",
       "      <th></th>\n",
       "      <th></th>\n",
       "      <th></th>\n",
       "      <th></th>\n",
       "      <th></th>\n",
       "      <th></th>\n",
       "      <th></th>\n",
       "      <th></th>\n",
       "      <th></th>\n",
       "      <th></th>\n",
       "      <th></th>\n",
       "      <th></th>\n",
       "      <th></th>\n",
       "      <th></th>\n",
       "      <th></th>\n",
       "      <th></th>\n",
       "      <th></th>\n",
       "    </tr>\n",
       "  </thead>\n",
       "  <tbody>\n",
       "    <tr>\n",
       "      <th rowspan=\"5\" valign=\"top\">2500098</th>\n",
       "      <th>17</th>\n",
       "      <td>shot</td>\n",
       "      <td>dribble</td>\n",
       "      <td>cross</td>\n",
       "      <td>foot</td>\n",
       "      <td>foot</td>\n",
       "      <td>foot</td>\n",
       "      <td>success</td>\n",
       "      <td>success</td>\n",
       "      <td>99.75</td>\n",
       "      <td>26.52</td>\n",
       "      <td>...</td>\n",
       "      <td>1.319750</td>\n",
       "      <td>0.499778</td>\n",
       "      <td>0.483780</td>\n",
       "      <td>0.065500</td>\n",
       "      <td>2</td>\n",
       "      <td>3</td>\n",
       "      <td>8</td>\n",
       "      <td>9</td>\n",
       "      <td>12</td>\n",
       "      <td>18</td>\n",
       "    </tr>\n",
       "    <tr>\n",
       "      <th>40</th>\n",
       "      <td>shot</td>\n",
       "      <td>corner_crossed</td>\n",
       "      <td>pass</td>\n",
       "      <td>foot</td>\n",
       "      <td>foot</td>\n",
       "      <td>foot</td>\n",
       "      <td>success</td>\n",
       "      <td>fail</td>\n",
       "      <td>91.35</td>\n",
       "      <td>35.36</td>\n",
       "      <td>...</td>\n",
       "      <td>4.249364</td>\n",
       "      <td>0.517985</td>\n",
       "      <td>0.000000</td>\n",
       "      <td>0.363334</td>\n",
       "      <td>3</td>\n",
       "      <td>8</td>\n",
       "      <td>4</td>\n",
       "      <td>12</td>\n",
       "      <td>21</td>\n",
       "      <td>12</td>\n",
       "    </tr>\n",
       "    <tr>\n",
       "      <th>77</th>\n",
       "      <td>shot</td>\n",
       "      <td>clearance</td>\n",
       "      <td>cross</td>\n",
       "      <td>foot</td>\n",
       "      <td>foot</td>\n",
       "      <td>foot</td>\n",
       "      <td>fail</td>\n",
       "      <td>fail</td>\n",
       "      <td>75.60</td>\n",
       "      <td>29.92</td>\n",
       "      <td>...</td>\n",
       "      <td>5.874066</td>\n",
       "      <td>0.242481</td>\n",
       "      <td>0.491555</td>\n",
       "      <td>0.043863</td>\n",
       "      <td>6</td>\n",
       "      <td>3</td>\n",
       "      <td>0</td>\n",
       "      <td>18</td>\n",
       "      <td>12</td>\n",
       "      <td>18</td>\n",
       "    </tr>\n",
       "    <tr>\n",
       "      <th>140</th>\n",
       "      <td>shot</td>\n",
       "      <td>cross</td>\n",
       "      <td>dribble</td>\n",
       "      <td>foot</td>\n",
       "      <td>foot</td>\n",
       "      <td>foot</td>\n",
       "      <td>success</td>\n",
       "      <td>success</td>\n",
       "      <td>92.40</td>\n",
       "      <td>43.52</td>\n",
       "      <td>...</td>\n",
       "      <td>2.061543</td>\n",
       "      <td>0.371538</td>\n",
       "      <td>0.134860</td>\n",
       "      <td>0.167545</td>\n",
       "      <td>4</td>\n",
       "      <td>5</td>\n",
       "      <td>0</td>\n",
       "      <td>12</td>\n",
       "      <td>15</td>\n",
       "      <td>18</td>\n",
       "    </tr>\n",
       "    <tr>\n",
       "      <th>145</th>\n",
       "      <td>shot</td>\n",
       "      <td>pass</td>\n",
       "      <td>pass</td>\n",
       "      <td>foot</td>\n",
       "      <td>foot</td>\n",
       "      <td>foot</td>\n",
       "      <td>success</td>\n",
       "      <td>success</td>\n",
       "      <td>99.75</td>\n",
       "      <td>37.40</td>\n",
       "      <td>...</td>\n",
       "      <td>1.289870</td>\n",
       "      <td>0.978291</td>\n",
       "      <td>0.654611</td>\n",
       "      <td>0.320841</td>\n",
       "      <td>1</td>\n",
       "      <td>3</td>\n",
       "      <td>4</td>\n",
       "      <td>6</td>\n",
       "      <td>9</td>\n",
       "      <td>15</td>\n",
       "    </tr>\n",
       "  </tbody>\n",
       "</table>\n",
       "<p>5 rows × 59 columns</p>\n",
       "</div>"
      ],
      "text/plain": [
       "                  type_id_a0      type_id_a1 type_id_a2 bodypart_id_a0  \\\n",
       "game_id action_id                                                        \n",
       "2500098 17              shot         dribble      cross           foot   \n",
       "        40              shot  corner_crossed       pass           foot   \n",
       "        77              shot       clearance      cross           foot   \n",
       "        140             shot           cross    dribble           foot   \n",
       "        145             shot            pass       pass           foot   \n",
       "\n",
       "                  bodypart_id_a1 bodypart_id_a2 result_id_a1 result_id_a2  \\\n",
       "game_id action_id                                                           \n",
       "2500098 17                  foot           foot      success      success   \n",
       "        40                  foot           foot      success         fail   \n",
       "        77                  foot           foot         fail         fail   \n",
       "        140                 foot           foot      success      success   \n",
       "        145                 foot           foot      success      success   \n",
       "\n",
       "                   start_x_a0  start_y_a0  ...  speed_a02  shot_angle_a0  \\\n",
       "game_id action_id                          ...                             \n",
       "2500098 17              99.75       26.52  ...   1.319750       0.499778   \n",
       "        40              91.35       35.36  ...   4.249364       0.517985   \n",
       "        77              75.60       29.92  ...   5.874066       0.242481   \n",
       "        140             92.40       43.52  ...   2.061543       0.371538   \n",
       "        145             99.75       37.40  ...   1.289870       0.978291   \n",
       "\n",
       "                   shot_angle_a1  shot_angle_a2  caley_zone_a0  caley_zone_a1  \\\n",
       "game_id action_id                                                               \n",
       "2500098 17              0.483780       0.065500              2              3   \n",
       "        40              0.000000       0.363334              3              8   \n",
       "        77              0.491555       0.043863              6              3   \n",
       "        140             0.134860       0.167545              4              5   \n",
       "        145             0.654611       0.320841              1              3   \n",
       "\n",
       "                   caley_zone_a2  angle_zone_a0  angle_zone_a1  angle_zone_a2  \n",
       "game_id action_id                                                              \n",
       "2500098 17                     8              9             12             18  \n",
       "        40                     4             12             21             12  \n",
       "        77                     0             18             12             18  \n",
       "        140                    0             12             15             18  \n",
       "        145                    4              6              9             15  \n",
       "\n",
       "[5 rows x 59 columns]"
      ]
     },
     "metadata": {},
     "output_type": "display_data"
    },
    {
     "data": {
      "text/html": [
       "<div>\n",
       "<style scoped>\n",
       "    .dataframe tbody tr th:only-of-type {\n",
       "        vertical-align: middle;\n",
       "    }\n",
       "\n",
       "    .dataframe tbody tr th {\n",
       "        vertical-align: top;\n",
       "    }\n",
       "\n",
       "    .dataframe thead th {\n",
       "        text-align: right;\n",
       "    }\n",
       "</style>\n",
       "<table border=\"1\" class=\"dataframe\">\n",
       "  <thead>\n",
       "    <tr style=\"text-align: right;\">\n",
       "      <th></th>\n",
       "      <th></th>\n",
       "      <th>goal</th>\n",
       "    </tr>\n",
       "    <tr>\n",
       "      <th>game_id</th>\n",
       "      <th>action_id</th>\n",
       "      <th></th>\n",
       "    </tr>\n",
       "  </thead>\n",
       "  <tbody>\n",
       "    <tr>\n",
       "      <th rowspan=\"5\" valign=\"top\">2500098</th>\n",
       "      <th>17</th>\n",
       "      <td>False</td>\n",
       "    </tr>\n",
       "    <tr>\n",
       "      <th>40</th>\n",
       "      <td>False</td>\n",
       "    </tr>\n",
       "    <tr>\n",
       "      <th>77</th>\n",
       "      <td>False</td>\n",
       "    </tr>\n",
       "    <tr>\n",
       "      <th>140</th>\n",
       "      <td>False</td>\n",
       "    </tr>\n",
       "    <tr>\n",
       "      <th>145</th>\n",
       "      <td>False</td>\n",
       "    </tr>\n",
       "  </tbody>\n",
       "</table>\n",
       "</div>"
      ],
      "text/plain": [
       "                    goal\n",
       "game_id action_id       \n",
       "2500098 17         False\n",
       "        40         False\n",
       "        77         False\n",
       "        140        False\n",
       "        145        False"
      ]
     },
     "metadata": {},
     "output_type": "display_data"
    }
   ],
   "source": [
    "features = []\n",
    "labels = []\n",
    "# load features and labels for each season\n",
    "for (l,s) in itertools.product(leagues, seasons):\n",
    "    try:\n",
    "        features.append(pd.read_hdf(store_features, key=f'{l}/{s}/features'))\n",
    "        labels.append(pd.read_hdf(store_features, key=f'{l}/{s}/labels'))\n",
    "    except KeyError:\n",
    "        print(f\"Key not found for league {l} and season {s}\")\n",
    "features = pd.concat(features)\n",
    "labels = pd.concat(labels)\n",
    "# filter open play shots\n",
    "open_play_idx = features[features.type_id_a0 == 'shot'].index\n",
    "features = features.loc[open_play_idx]\n",
    "labels = labels.loc[open_play_idx]\n",
    "\n",
    "display(features.head())\n",
    "display(labels.to_frame().head())"
   ]
  },
  {
   "cell_type": "code",
   "execution_count": 6,
   "metadata": {},
   "outputs": [
    {
     "data": {
      "text/plain": [
       "type_id_a0                category\n",
       "type_id_a1                category\n",
       "type_id_a2                category\n",
       "bodypart_id_a0            category\n",
       "bodypart_id_a1            category\n",
       "bodypart_id_a2            category\n",
       "result_id_a1              category\n",
       "result_id_a2              category\n",
       "start_x_a0                 float64\n",
       "start_y_a0                 float64\n",
       "start_x_a1                 float64\n",
       "start_y_a1                 float64\n",
       "start_x_a2                 float64\n",
       "start_y_a2                 float64\n",
       "end_x_a1                   float64\n",
       "end_y_a1                   float64\n",
       "end_x_a2                   float64\n",
       "end_y_a2                   float64\n",
       "dx_a1                      float64\n",
       "dy_a1                      float64\n",
       "movement_a1                float64\n",
       "dx_a2                      float64\n",
       "dy_a2                      float64\n",
       "movement_a2                float64\n",
       "dx_a01                     float64\n",
       "dy_a01                     float64\n",
       "mov_a01                    float64\n",
       "dx_a02                     float64\n",
       "dy_a02                     float64\n",
       "mov_a02                    float64\n",
       "start_dist_to_goal_a0      float64\n",
       "start_angle_to_goal_a0     float64\n",
       "start_dist_to_goal_a1      float64\n",
       "start_angle_to_goal_a1     float64\n",
       "start_dist_to_goal_a2      float64\n",
       "start_angle_to_goal_a2     float64\n",
       "end_dist_to_goal_a1        float64\n",
       "end_angle_to_goal_a1       float64\n",
       "end_dist_to_goal_a2        float64\n",
       "end_angle_to_goal_a2       float64\n",
       "team_1                        bool\n",
       "team_2                        bool\n",
       "time_delta_1               float64\n",
       "time_delta_2               float64\n",
       "speedx_a01                 float64\n",
       "speedy_a01                 float64\n",
       "speed_a01                  float64\n",
       "speedx_a02                 float64\n",
       "speedy_a02                 float64\n",
       "speed_a02                  float64\n",
       "shot_angle_a0              float64\n",
       "shot_angle_a1              float64\n",
       "shot_angle_a2              float64\n",
       "caley_zone_a0             category\n",
       "caley_zone_a1             category\n",
       "caley_zone_a2             category\n",
       "angle_zone_a0             category\n",
       "angle_zone_a1             category\n",
       "angle_zone_a2             category\n",
       "dtype: object"
      ]
     },
     "execution_count": 6,
     "metadata": {},
     "output_type": "execute_result"
    }
   ],
   "source": [
    "features.dtypes"
   ]
  },
  {
   "cell_type": "markdown",
   "metadata": {},
   "source": [
    "### Split train and test "
   ]
  },
  {
   "cell_type": "code",
   "execution_count": 7,
   "metadata": {},
   "outputs": [],
   "source": [
    "games_train, games_val, games_test = sample_temporal(api, size_val=0.2, size_test=0.3)\n",
    "\n",
    "X_train, y_train = features.loc[games_train], labels.loc[games_train]\n",
    "data_train = X_train.assign(goal=y_train)\n",
    "X_val, y_val = features.loc[games_val], labels.loc[games_val]\n",
    "data_val = X_train.assign(goal=y_val)\n",
    "X_test, y_test = features.loc[games_test], labels.loc[games_test]\n",
    "data_test = X_test.assign(goal=y_test)"
   ]
  },
  {
   "cell_type": "code",
   "execution_count": 8,
   "metadata": {},
   "outputs": [
    {
     "name": "stdout",
     "output_type": "stream",
     "text": [
      "dataset = train\n",
      "shape = (20652, 59)\n",
      "--------------------\n",
      "dataset = val\n",
      "shape = (7781, 59)\n",
      "--------------------\n",
      "dataset = test\n",
      "shape = (11965, 59)\n",
      "--------------------\n"
     ]
    }
   ],
   "source": [
    "for name, X in [(\"train\", X_train), (\"val\", X_val), (\"test\", X_test)]:\n",
    "    print(\"dataset =\", name)\n",
    "    print(\"shape =\", X.shape)\n",
    "    print(\"-\" * 20)"
   ]
  },
  {
   "cell_type": "markdown",
   "metadata": {},
   "source": [
    "## Learning "
   ]
  },
  {
   "cell_type": "markdown",
   "metadata": {},
   "source": [
    "### Feature selection"
   ]
  },
  {
   "cell_type": "code",
   "execution_count": 9,
   "metadata": {},
   "outputs": [
    {
     "name": "stdout",
     "output_type": "stream",
     "text": [
      "Numerical features: ['start_x_a0', 'start_y_a0', 'start_x_a1', 'start_y_a1', 'start_x_a2', 'start_y_a2', 'end_x_a1', 'end_y_a1', 'end_x_a2', 'end_y_a2', 'dx_a1', 'dy_a1', 'movement_a1', 'dx_a2', 'dy_a2', 'movement_a2', 'dx_a01', 'dy_a01', 'mov_a01', 'dx_a02', 'dy_a02', 'mov_a02', 'start_dist_to_goal_a0', 'start_angle_to_goal_a0', 'start_dist_to_goal_a1', 'start_angle_to_goal_a1', 'start_dist_to_goal_a2', 'start_angle_to_goal_a2', 'end_dist_to_goal_a1', 'end_angle_to_goal_a1', 'end_dist_to_goal_a2', 'end_angle_to_goal_a2', 'time_delta_1', 'time_delta_2', 'speedx_a01', 'speedy_a01', 'speed_a01', 'speedx_a02', 'speedy_a02', 'speed_a02', 'shot_angle_a0', 'shot_angle_a1', 'shot_angle_a2']\n",
      "Categorical features: ['type_id_a0', 'type_id_a1', 'type_id_a2', 'bodypart_id_a0', 'bodypart_id_a1', 'bodypart_id_a2', 'result_id_a1', 'result_id_a2', 'caley_zone_a0', 'caley_zone_a1', 'caley_zone_a2', 'angle_zone_a0', 'angle_zone_a1', 'angle_zone_a2']\n"
     ]
    }
   ],
   "source": [
    "# Get all numerical features\n",
    "NUM = features.select_dtypes(include=['float64']).columns.tolist()\n",
    "\n",
    "# Get all categorical features\n",
    "CAT = features.select_dtypes(include=['object', 'category']).columns.tolist()\n",
    "\n",
    "# Now you have arrays of all numerical and categorical features\n",
    "print(\"Numerical features:\", NUM)\n",
    "print(\"Categorical features:\", CAT)"
   ]
  },
  {
   "cell_type": "markdown",
   "metadata": {},
   "source": [
    "### Logistic regression"
   ]
  },
  {
   "cell_type": "code",
   "execution_count": 22,
   "metadata": {},
   "outputs": [],
   "source": [
    "import numpy as np\n",
    "from sklearn.linear_model import LogisticRegression\n",
    "from sklearn.pipeline import Pipeline\n",
    "from sklearn.model_selection import RandomizedSearchCV\n",
    "from soccer_xg.ml.preprocessing import simple_proc_for_linear_algoritms\n",
    "\n",
    "class FeatureSelector:\n",
    "    def __init__(self, feature_indices):\n",
    "        self.feature_indices = feature_indices\n",
    "\n",
    "    def transform(self, X):\n",
    "        return X[:, self.feature_indices]\n",
    "\n",
    "    def fit(self, X, y=None):\n",
    "        return self  \n",
    "\n",
    "def logreg_gridsearch_model(\n",
    "    numeric_features,\n",
    "    categoric_features,\n",
    "    n_iter=100,\n",
    "    scoring='roc_auc'\n",
    "):\n",
    "    \"\"\"\n",
    "    Logistic regression pipeline with feature selection and hyperparameter tuning.\n",
    "    \"\"\"\n",
    "    param_space = {\n",
    "        'clf__C': np.logspace(-5, 5, 100),\n",
    "        'clf__class_weight': ['balanced', None],\n",
    "    }\n",
    "\n",
    "    pipe = Pipeline(\n",
    "        [\n",
    "            ('preprocessing', simple_proc_for_linear_algoritms(\n",
    "                numeric_features, categoric_features)),\n",
    "            ('clf', LogisticRegression(max_iter=10000, fit_intercept=False)),\n",
    "        ]\n",
    "    )\n",
    "\n",
    "    return RandomizedSearchCV(\n",
    "        pipe, param_space, n_iter=n_iter, scoring=scoring, cv=5\n",
    "    )\n"
   ]
  },
  {
   "cell_type": "code",
   "execution_count": 23,
   "metadata": {},
   "outputs": [],
   "source": [
    "search_logreg = logreg_gridsearch_model(\n",
    "    numeric_features=NUM,\n",
    "    categoric_features=CAT,\n",
    "    scoring='neg_brier_score', \n",
    "    n_iter=1000\n",
    ")"
   ]
  },
  {
   "cell_type": "code",
   "execution_count": 24,
   "metadata": {},
   "outputs": [
    {
     "name": "stderr",
     "output_type": "stream",
     "text": [
      "c:\\Users\\dolun\\Desktop\\bachelorproef\\poc\\xgvenv\\lib\\site-packages\\sklearn\\model_selection\\_search.py:277: UserWarning: The total space of parameters 200 is smaller than n_iter=1000. Running 200 iterations. For exhaustive searches, use GridSearchCV.\n",
      "  warnings.warn(\n"
     ]
    },
    {
     "data": {
      "text/plain": [
       "RandomizedSearchCV(cv=5, error_score=nan,\n",
       "                   estimator=Pipeline(memory=None,\n",
       "                                      steps=[('preprocessing',\n",
       "                                              FeatureUnion(n_jobs=None,\n",
       "                                                           transformer_list=[('pipeline-1',\n",
       "                                                                              Pipeline(memory=None,\n",
       "                                                                                       steps=[('columnsselector',\n",
       "                                                                                               ColumnsSelector(columns=['type_id_a0',\n",
       "                                                                                                                        'type_id_a1',\n",
       "                                                                                                                        'type_id_a2',\n",
       "                                                                                                                        'bodypart_id_a0',\n",
       "                                                                                                                        'bodypart_id_a1',\n",
       "                                                                                                                        'bodypart_id_a2',\n",
       "                                                                                                                        'result_id_a1',\n",
       "                                                                                                                        'result_id_a2',\n",
       "                                                                                                                        'caley...\n",
       "       3.05385551e+03, 3.85352859e+03, 4.86260158e+03, 6.13590727e+03,\n",
       "       7.74263683e+03, 9.77009957e+03, 1.23284674e+04, 1.55567614e+04,\n",
       "       1.96304065e+04, 2.47707636e+04, 3.12571585e+04, 3.94420606e+04,\n",
       "       4.97702356e+04, 6.28029144e+04, 7.92482898e+04, 1.00000000e+05]),\n",
       "                                        'clf__class_weight': ['balanced',\n",
       "                                                              None]},\n",
       "                   pre_dispatch='2*n_jobs', random_state=None, refit=True,\n",
       "                   return_train_score=False, scoring='neg_brier_score',\n",
       "                   verbose=0)"
      ]
     },
     "execution_count": 24,
     "metadata": {},
     "output_type": "execute_result"
    }
   ],
   "source": [
    "search_logreg.fit(X_train, y_train)"
   ]
  },
  {
   "cell_type": "code",
   "execution_count": 26,
   "metadata": {},
   "outputs": [
    {
     "data": {
      "text/plain": [
       "-0.07872276592966507"
      ]
     },
     "execution_count": 26,
     "metadata": {},
     "output_type": "execute_result"
    }
   ],
   "source": [
    "search_logreg.best_score_"
   ]
  },
  {
   "cell_type": "code",
   "execution_count": 25,
   "metadata": {},
   "outputs": [
    {
     "data": {
      "text/plain": [
       "LogisticRegression(C=0.03430469286314919, class_weight=None, dual=False,\n",
       "                   fit_intercept=False, intercept_scaling=1, l1_ratio=None,\n",
       "                   max_iter=10000, multi_class='auto', n_jobs=None,\n",
       "                   penalty='l2', random_state=None, solver='lbfgs', tol=0.0001,\n",
       "                   verbose=0, warm_start=False)"
      ]
     },
     "execution_count": 25,
     "metadata": {},
     "output_type": "execute_result"
    }
   ],
   "source": [
    "search_logreg.best_estimator_['clf']"
   ]
  },
  {
   "cell_type": "code",
   "execution_count": 27,
   "metadata": {},
   "outputs": [
    {
     "name": "stderr",
     "output_type": "stream",
     "text": [
      "c:\\Users\\dolun\\Desktop\\bachelorproef\\poc\\xgvenv\\lib\\site-packages\\soccer_xg\\metrics.py:132: FutureWarning: Support for multi-dimensional indexing (e.g. `obj[:, None]`) is deprecated and will be removed in a future version.  Convert to a numpy array before indexing instead.\n",
      "  (y_pred[y_true])[:, np.newaxis]\n",
      "c:\\Users\\dolun\\Desktop\\bachelorproef\\poc\\xgvenv\\lib\\site-packages\\soccer_xg\\metrics.py:135: FutureWarning: Support for multi-dimensional indexing (e.g. `obj[:, None]`) is deprecated and will be removed in a future version.  Convert to a numpy array before indexing instead.\n",
      "  y_pred[:, np.newaxis]\n",
      "c:\\Users\\dolun\\Desktop\\bachelorproef\\poc\\xgvenv\\lib\\site-packages\\soccer_xg\\visualisation.py:135: UserWarning: No artists with labels found to put in legend.  Note that artists whose label start with an underscore are ignored when legend() is called with no argument.\n",
      "  plt.gca().legend()\n",
      "c:\\Users\\dolun\\Desktop\\bachelorproef\\poc\\xgvenv\\lib\\site-packages\\soccer_xg\\metrics.py:132: FutureWarning: Support for multi-dimensional indexing (e.g. `obj[:, None]`) is deprecated and will be removed in a future version.  Convert to a numpy array before indexing instead.\n",
      "  (y_pred[y_true])[:, np.newaxis]\n",
      "c:\\Users\\dolun\\Desktop\\bachelorproef\\poc\\xgvenv\\lib\\site-packages\\soccer_xg\\metrics.py:135: FutureWarning: Support for multi-dimensional indexing (e.g. `obj[:, None]`) is deprecated and will be removed in a future version.  Convert to a numpy array before indexing instead.\n",
      "  y_pred[:, np.newaxis]\n"
     ]
    },
    {
     "name": "stdout",
     "output_type": "stream",
     "text": [
      "{'max_dev': 40.91638850088645, 'residual_area': 583.0281041640832, 'roc': 0.7930641160537094, 'brier': 0.08278361350129708, 'ece': 0.005609813281285542, 'ace': 0.008288836452908654, 'fig': <Figure size 720x360 with 3 Axes>}\n"
     ]
    },
    {
     "data": {
      "image/png": "[encoded data removed]",
      "text/plain": [
       "<Figure size 720x360 with 3 Axes>"
      ]
     },
     "metadata": {
      "needs_background": "light"
     },
     "output_type": "display_data"
    }
   ],
   "source": [
    "model = xg.OpenplayXGModel()\n",
    "model.model = search_logreg.best_estimator_\n",
    "model._training_seasons = [\"1718\"]\n",
    "model._fitted = True\n",
    "print(model.validate(data_test, validation_seasons=[\"1718\"]))\n",
    "#model.save_model(f'{provider}_openplay_logreg_basic')0.79 36.84 7.47"
   ]
  },
  {
   "cell_type": "code",
   "execution_count": 28,
   "metadata": {},
   "outputs": [
    {
     "name": "stdout",
     "output_type": "stream",
     "text": [
      "144\n"
     ]
    }
   ],
   "source": [
    "index_cat = []\n",
    "for col in CAT:\n",
    "    value_counts = features[col].value_counts()\n",
    "\n",
    "    non_zero_counts = value_counts[value_counts > 1]\n",
    "    \n",
    "    for i in range(len(non_zero_counts)):\n",
    "        index_cat.append(col)\n",
    "\n",
    "index_features = index_cat + NUM\n",
    "print(len(index_features))"
   ]
  },
  {
   "cell_type": "code",
   "execution_count": 29,
   "metadata": {},
   "outputs": [
    {
     "name": "stdout",
     "output_type": "stream",
     "text": [
      "Selected Columns: ['type_id_a0', 'type_id_a1', 'type_id_a2', 'bodypart_id_a0', 'bodypart_id_a1', 'bodypart_id_a2', 'result_id_a1', 'result_id_a2', 'caley_zone_a0', 'caley_zone_a1', 'caley_zone_a2', 'angle_zone_a0', 'angle_zone_a1', 'angle_zone_a2']\n",
      "Original NUM columns: ['start_x_a0', 'start_y_a0', 'start_x_a1', 'start_y_a1', 'start_x_a2', 'start_y_a2', 'end_x_a1', 'end_y_a1', 'end_x_a2', 'end_y_a2', 'dx_a1', 'dy_a1', 'movement_a1', 'dx_a2', 'dy_a2', 'movement_a2', 'dx_a01', 'dy_a01', 'mov_a01', 'dx_a02', 'dy_a02', 'mov_a02', 'start_dist_to_goal_a0', 'start_angle_to_goal_a0', 'start_dist_to_goal_a1', 'start_angle_to_goal_a1', 'start_dist_to_goal_a2', 'start_angle_to_goal_a2', 'end_dist_to_goal_a1', 'end_angle_to_goal_a1', 'end_dist_to_goal_a2', 'end_angle_to_goal_a2', 'time_delta_1', 'time_delta_2', 'speedx_a01', 'speedy_a01', 'speed_a01', 'speedx_a02', 'speedy_a02', 'speed_a02', 'shot_angle_a0', 'shot_angle_a1', 'shot_angle_a2']\n",
      "Original CAT columns: ['type_id_a0', 'type_id_a1', 'type_id_a2', 'bodypart_id_a0', 'bodypart_id_a1', 'bodypart_id_a2', 'result_id_a1', 'result_id_a2', 'caley_zone_a0', 'caley_zone_a1', 'caley_zone_a2', 'angle_zone_a0', 'angle_zone_a1', 'angle_zone_a2']\n"
     ]
    }
   ],
   "source": [
    "preprocessing = model.model.named_steps['preprocessing']\n",
    "\n",
    "columns_selector = preprocessing.transformer_list[0][1].named_steps['columnsselector']\n",
    "\n",
    "selected_columns = columns_selector.columns\n",
    "print(\"Selected Columns:\", selected_columns)\n",
    "\n",
    "print(\"Original NUM columns:\", NUM)\n",
    "print(\"Original CAT columns:\", CAT)"
   ]
  },
  {
   "cell_type": "code",
   "execution_count": 30,
   "metadata": {},
   "outputs": [],
   "source": [
    "#model = xg.XGModel.load_model(f'{provider}_openplay_logreg_basic')\n",
    "\n",
    "(pd.DataFrame(\n",
    "    data={'importance': model.model.named_steps['clf'].coef_[0]},index=index_features)\n",
    "    .sort_values(by='importance').to_csv(\"feature_importance/feature_importance_L2.csv\"))"
   ]
  }
 ],
 "metadata": {
  "kernelspec": {
   "display_name": "xgvenv",
   "language": "python",
   "name": "python3"
  },
  "language_info": {
   "codemirror_mode": {
    "name": "ipython",
    "version": 3
   },
   "file_extension": ".py",
   "mimetype": "text/x-python",
   "name": "python",
   "nbconvert_exporter": "python",
   "pygments_lexer": "ipython3",
   "version": "3.10.11"
  }
 },
 "nbformat": 4,
 "nbformat_minor": 2
}
